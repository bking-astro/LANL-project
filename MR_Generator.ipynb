{
 "cells": [
  {
   "cell_type": "code",
   "execution_count": 2,
   "metadata": {},
   "outputs": [],
   "source": [
    "import numpy as np\n",
    "import pandas as pd\n",
    "import EOS_extension\n",
    "import TOVsolver\n",
    "import os\n",
    "import time"
   ]
  },
  {
   "cell_type": "code",
   "execution_count": 3,
   "metadata": {},
   "outputs": [],
   "source": [
    "EOS_start = pd.read_table('data/EOSCEFTVE1.dat', header=None).to_numpy()"
   ]
  },
  {
   "cell_type": "code",
   "execution_count": 6,
   "metadata": {},
   "outputs": [],
   "source": [
    "def generate_tables(number_tables, EOS_start, nsamp_EOS, ext_type, MRL_size=100, maxm_thresh=1.8):\n",
    "    datapath = os.getcwd() + \"/data/\"\n",
    "    EOSdir_name = ext_type+str(nsamp_EOS)+'EOS'\n",
    "    MRLdir_name = ext_type+str(nsamp_EOS)+'MRL'\n",
    "    \n",
    "    if not(EOSdir_name in os.listdir(datapath)) and not(MRLdir_name in os.listdir(datapath)):\n",
    "        os.makedirs(datapath+EOSdir_name)\n",
    "        os.makedirs(datapath+MRLdir_name)\n",
    "        \n",
    "        \n",
    "    numlist = []\n",
    "    for file in os.listdir(datapath+EOSdir_name):\n",
    "        if '.dat' in file:\n",
    "            numlist.append(int(file[:-4]))\n",
    "    \n",
    "    if len(numlist) == 0:\n",
    "        filenumstart = 0\n",
    "    else:\n",
    "        filenumstart = max(numlist) + 1\n",
    "\n",
    "    i = 0\n",
    "    done_25 = False\n",
    "    done_50 = False\n",
    "    done_75 = False\n",
    "    num_failed = 0\n",
    "    while i < number_tables:\n",
    "        \n",
    "        if ext_type == 'poly':\n",
    "            EOS, ns, gammas, Ks = EOS_extension.extend(EOS_start, nsamp=nsamp_EOS,\n",
    "                                                            ext_type=ext_type, max_gamma=9)\n",
    "            param_string = \"ns =\" + str(ns) + ' gammas =' + str(gammas) + ' Ks =' + str(Ks)\n",
    "        else:\n",
    "            EOS, ns, cs = EOS_extension.extend(EOS_start, nsamp=nsamp_EOS, ext_type=ext_type)\n",
    "            param_string = \"ns =\" + str(ns) + ' cs =' + str(cs)\n",
    "        \n",
    "        # extend EOS and store parameters\n",
    "\n",
    "        MRL_table = TOVsolver.solve(EOS, MRL_size) #solve tov\n",
    "        raw_mass = MRL_table[0,:]\n",
    "        raw_radius = MRL_table[1,:]\n",
    "        raw_Lambda = MRL_table[2,:]\n",
    "        \n",
    "        # create boolean arrays to test if points are good\n",
    "        m2big = raw_mass < 4\n",
    "        r2small = raw_radius > 7\n",
    "        # the bool array of points we will keep\n",
    "        keep = np.logical_and(m2big, r2small)\n",
    "        # define new arrays we will keep\n",
    "        radius = raw_radius[keep]\n",
    "        mass = raw_mass[keep]\n",
    "        Lambda = raw_Lambda[keep]\n",
    "        \n",
    "        #check if maximum mass is realistic\n",
    "        maxm = np.max(mass)\n",
    "        if maxm < maxm_thresh:\n",
    "#             print(\"maximum mass is too low\")\n",
    "            num_failed += 1\n",
    "            i -= 1\n",
    "        else:\n",
    "            leng = len(radius) # get number of physical points\n",
    "            MRL = np.zeros((leng, 3)) # initialize MRL table\n",
    "            MRL[:,0], MRL[:,1], MRL[:,2] = mass, radius, Lambda # put into table\n",
    "\n",
    "            EOSname = datapath + EOSdir_name + '/' + str(filenumstart + i) + '.dat' # make names for file\n",
    "            MRLname = datapath + MRLdir_name + '/' + str(filenumstart + i) + '.dat'\n",
    "            \n",
    "#             print(\"saving file...\")\n",
    "\n",
    "            np.savetxt(EOSname, EOS, header=param_string) # save files\n",
    "            np.savetxt(MRLname, MRL)\n",
    "    \n",
    "        \n",
    "        if i*100/number_tables > 25 and done_25==False:\n",
    "            print(\"The run is 25% complete\")\n",
    "            done_25=True\n",
    "        elif i*100/number_tables > 50 and done_50==False:\n",
    "            print(\"The run is 50% complete\")\n",
    "            done_50=True\n",
    "        elif i*100/number_tables > 75 and done_75==False:\n",
    "            print(\"The run is 75% complete\")\n",
    "            done_75=True\n",
    "        \n",
    "        i +=1\n",
    "    print(str(num_failed)+' iterations failed for '+str(number_tables)+' successful tables.')"
   ]
  },
  {
   "cell_type": "code",
   "execution_count": 7,
   "metadata": {},
   "outputs": [
    {
     "ename": "ValueError",
     "evalue": "zero-size array to reduction operation maximum which has no identity",
     "output_type": "error",
     "traceback": [
      "\u001b[0;31m---------------------------------------------------------------------------\u001b[0m",
      "\u001b[0;31mValueError\u001b[0m                                Traceback (most recent call last)",
      "\u001b[0;32m<ipython-input-7-454645d70b85>\u001b[0m in \u001b[0;36m<module>\u001b[0;34m\u001b[0m\n\u001b[1;32m      4\u001b[0m \u001b[0;34m\u001b[0m\u001b[0m\n\u001b[1;32m      5\u001b[0m \u001b[0mstart_time\u001b[0m \u001b[0;34m=\u001b[0m \u001b[0mtime\u001b[0m\u001b[0;34m.\u001b[0m\u001b[0mtime\u001b[0m\u001b[0;34m(\u001b[0m\u001b[0;34m)\u001b[0m\u001b[0;34m\u001b[0m\u001b[0;34m\u001b[0m\u001b[0m\n\u001b[0;32m----> 6\u001b[0;31m \u001b[0mgenerate_tables\u001b[0m\u001b[0;34m(\u001b[0m\u001b[0mnsim\u001b[0m\u001b[0;34m,\u001b[0m \u001b[0mEOS_start\u001b[0m\u001b[0;34m,\u001b[0m \u001b[0mnsamp\u001b[0m\u001b[0;34m,\u001b[0m \u001b[0mext_type\u001b[0m\u001b[0;34m)\u001b[0m\u001b[0;34m\u001b[0m\u001b[0;34m\u001b[0m\u001b[0m\n\u001b[0m\u001b[1;32m      7\u001b[0m \u001b[0mprint\u001b[0m\u001b[0;34m(\u001b[0m\u001b[0mtime\u001b[0m\u001b[0;34m.\u001b[0m\u001b[0mtime\u001b[0m\u001b[0;34m(\u001b[0m\u001b[0;34m)\u001b[0m\u001b[0;34m-\u001b[0m\u001b[0mstart_time\u001b[0m\u001b[0;34m)\u001b[0m\u001b[0;34m\u001b[0m\u001b[0;34m\u001b[0m\u001b[0m\n",
      "\u001b[0;32m<ipython-input-6-013c34dd1dae>\u001b[0m in \u001b[0;36mgenerate_tables\u001b[0;34m(number_tables, EOS_start, nsamp_EOS, ext_type, MRL_size, maxm_thresh)\u001b[0m\n\u001b[1;32m     52\u001b[0m \u001b[0;34m\u001b[0m\u001b[0m\n\u001b[1;32m     53\u001b[0m         \u001b[0;31m#check if maximum mass is realistic\u001b[0m\u001b[0;34m\u001b[0m\u001b[0;34m\u001b[0m\u001b[0;34m\u001b[0m\u001b[0m\n\u001b[0;32m---> 54\u001b[0;31m         \u001b[0mmaxm\u001b[0m \u001b[0;34m=\u001b[0m \u001b[0mnp\u001b[0m\u001b[0;34m.\u001b[0m\u001b[0mmax\u001b[0m\u001b[0;34m(\u001b[0m\u001b[0mmass\u001b[0m\u001b[0;34m)\u001b[0m\u001b[0;34m\u001b[0m\u001b[0;34m\u001b[0m\u001b[0m\n\u001b[0m\u001b[1;32m     55\u001b[0m         \u001b[0;32mif\u001b[0m \u001b[0mmaxm\u001b[0m \u001b[0;34m<\u001b[0m \u001b[0mmaxm_thresh\u001b[0m\u001b[0;34m:\u001b[0m\u001b[0;34m\u001b[0m\u001b[0;34m\u001b[0m\u001b[0m\n\u001b[1;32m     56\u001b[0m \u001b[0;31m#             print(\"maximum mass is too low\")\u001b[0m\u001b[0;34m\u001b[0m\u001b[0;34m\u001b[0m\u001b[0;34m\u001b[0m\u001b[0m\n",
      "\u001b[0;32m<__array_function__ internals>\u001b[0m in \u001b[0;36mamax\u001b[0;34m(*args, **kwargs)\u001b[0m\n",
      "\u001b[0;32m/opt/anaconda3/lib/python3.8/site-packages/numpy/core/fromnumeric.py\u001b[0m in \u001b[0;36mamax\u001b[0;34m(a, axis, out, keepdims, initial, where)\u001b[0m\n\u001b[1;32m   2703\u001b[0m     \u001b[0;36m5\u001b[0m\u001b[0;34m\u001b[0m\u001b[0;34m\u001b[0m\u001b[0m\n\u001b[1;32m   2704\u001b[0m     \"\"\"\n\u001b[0;32m-> 2705\u001b[0;31m     return _wrapreduction(a, np.maximum, 'max', axis, None, out,\n\u001b[0m\u001b[1;32m   2706\u001b[0m                           keepdims=keepdims, initial=initial, where=where)\n\u001b[1;32m   2707\u001b[0m \u001b[0;34m\u001b[0m\u001b[0m\n",
      "\u001b[0;32m/opt/anaconda3/lib/python3.8/site-packages/numpy/core/fromnumeric.py\u001b[0m in \u001b[0;36m_wrapreduction\u001b[0;34m(obj, ufunc, method, axis, dtype, out, **kwargs)\u001b[0m\n\u001b[1;32m     85\u001b[0m                 \u001b[0;32mreturn\u001b[0m \u001b[0mreduction\u001b[0m\u001b[0;34m(\u001b[0m\u001b[0maxis\u001b[0m\u001b[0;34m=\u001b[0m\u001b[0maxis\u001b[0m\u001b[0;34m,\u001b[0m \u001b[0mout\u001b[0m\u001b[0;34m=\u001b[0m\u001b[0mout\u001b[0m\u001b[0;34m,\u001b[0m \u001b[0;34m**\u001b[0m\u001b[0mpasskwargs\u001b[0m\u001b[0;34m)\u001b[0m\u001b[0;34m\u001b[0m\u001b[0;34m\u001b[0m\u001b[0m\n\u001b[1;32m     86\u001b[0m \u001b[0;34m\u001b[0m\u001b[0m\n\u001b[0;32m---> 87\u001b[0;31m     \u001b[0;32mreturn\u001b[0m \u001b[0mufunc\u001b[0m\u001b[0;34m.\u001b[0m\u001b[0mreduce\u001b[0m\u001b[0;34m(\u001b[0m\u001b[0mobj\u001b[0m\u001b[0;34m,\u001b[0m \u001b[0maxis\u001b[0m\u001b[0;34m,\u001b[0m \u001b[0mdtype\u001b[0m\u001b[0;34m,\u001b[0m \u001b[0mout\u001b[0m\u001b[0;34m,\u001b[0m \u001b[0;34m**\u001b[0m\u001b[0mpasskwargs\u001b[0m\u001b[0;34m)\u001b[0m\u001b[0;34m\u001b[0m\u001b[0;34m\u001b[0m\u001b[0m\n\u001b[0m\u001b[1;32m     88\u001b[0m \u001b[0;34m\u001b[0m\u001b[0m\n\u001b[1;32m     89\u001b[0m \u001b[0;34m\u001b[0m\u001b[0m\n",
      "\u001b[0;31mValueError\u001b[0m: zero-size array to reduction operation maximum which has no identity"
     ]
    }
   ],
   "source": [
    "nsim = 10\n",
    "nsamp = 5\n",
    "ext_type = 'cs'\n",
    "\n",
    "start_time = time.time()\n",
    "generate_tables(nsim, EOS_start, nsamp, ext_type)\n",
    "print(time.time()-start_time)"
   ]
  },
  {
   "cell_type": "code",
   "execution_count": 17,
   "metadata": {},
   "outputs": [
    {
     "name": "stdout",
     "output_type": "stream",
     "text": [
      "The run is 25% complete\n",
      "The run is 50% complete\n",
      "The run is 75% complete\n",
      "840 iterations failed for 500 successful tables.\n",
      "14900.790434122086\n"
     ]
    }
   ],
   "source": [
    "nsim = 500\n",
    "nsamp = 5\n",
    "ext_type = 'cs'\n",
    "start_time = time.time()\n",
    "generate_tables(nsim, EOS_start, nsamp, ext_type)\n",
    "print(time.time()-start_time)"
   ]
  },
  {
   "cell_type": "code",
   "execution_count": 18,
   "metadata": {},
   "outputs": [
    {
     "name": "stdout",
     "output_type": "stream",
     "text": [
      "The run is 25% complete\n",
      "The run is 50% complete\n",
      "The run is 75% complete\n",
      "892 iterations failed for 500 successful tables.\n",
      "16630.19686293602\n"
     ]
    }
   ],
   "source": [
    "nsim = 500\n",
    "nsamp = 5\n",
    "ext_type = 'cs'\n",
    "start_time = time.time()\n",
    "generate_tables(nsim, EOS_start, nsamp, ext_type)\n",
    "print(time.time()-start_time)"
   ]
  },
  {
   "cell_type": "code",
   "execution_count": 19,
   "metadata": {},
   "outputs": [
    {
     "name": "stdout",
     "output_type": "stream",
     "text": [
      "The run is 25% complete\n",
      "The run is 50% complete\n",
      "The run is 75% complete\n",
      "838 iterations failed for 500 successful tables.\n",
      "15574.77416396141\n"
     ]
    }
   ],
   "source": [
    "nsim = 500\n",
    "nsamp = 5\n",
    "ext_type = 'cs'\n",
    "start_time = time.time()\n",
    "generate_tables(nsim, EOS_start, nsamp, ext_type)\n",
    "print(time.time()-start_time)"
   ]
  },
  {
   "cell_type": "code",
   "execution_count": 20,
   "metadata": {},
   "outputs": [
    {
     "name": "stdout",
     "output_type": "stream",
     "text": [
      "The run is 25% complete\n",
      "The run is 50% complete\n",
      "The run is 75% complete\n",
      "805 iterations failed for 500 successful tables.\n",
      "17180.628422021866\n"
     ]
    }
   ],
   "source": [
    "nsim = 500\n",
    "nsamp = 5\n",
    "ext_type = 'cs'\n",
    "start_time = time.time()\n",
    "generate_tables(nsim, EOS_start, nsamp, ext_type)\n",
    "print(time.time()-start_time)"
   ]
  },
  {
   "cell_type": "code",
   "execution_count": 21,
   "metadata": {},
   "outputs": [
    {
     "name": "stdout",
     "output_type": "stream",
     "text": [
      "The run is 25% complete\n",
      "The run is 50% complete\n",
      "The run is 75% complete\n",
      "906 iterations failed for 500 successful tables.\n",
      "19750.550900936127\n"
     ]
    }
   ],
   "source": [
    "nsim = 500\n",
    "nsamp = 5\n",
    "ext_type = 'cs'\n",
    "start_time = time.time()\n",
    "generate_tables(nsim, EOS_start, nsamp, ext_type)\n",
    "print(time.time()-start_time)"
   ]
  },
  {
   "cell_type": "code",
   "execution_count": 22,
   "metadata": {},
   "outputs": [
    {
     "name": "stdout",
     "output_type": "stream",
     "text": [
      "The run is 25% complete\n",
      "The run is 50% complete\n",
      "The run is 75% complete\n",
      "806 iterations failed for 500 successful tables.\n",
      "15458.538129091263\n"
     ]
    }
   ],
   "source": [
    "nsim = 500\n",
    "nsamp = 5\n",
    "ext_type = 'cs'\n",
    "start_time = time.time()\n",
    "generate_tables(nsim, EOS_start, nsamp, ext_type)\n",
    "print(time.time()-start_time)"
   ]
  },
  {
   "cell_type": "code",
   "execution_count": null,
   "metadata": {},
   "outputs": [],
   "source": [
    "nsim = 500\n",
    "nsamp = 5\n",
    "ext_type = 'cs'\n",
    "start_time = time.time()\n",
    "generate_tables(nsim, EOS_start, nsamp, ext_type)\n",
    "print(time.time()-start_time)"
   ]
  },
  {
   "cell_type": "code",
   "execution_count": null,
   "metadata": {},
   "outputs": [],
   "source": []
  }
 ],
 "metadata": {
  "kernelspec": {
   "display_name": "Python 3",
   "language": "python",
   "name": "python3"
  },
  "language_info": {
   "codemirror_mode": {
    "name": "ipython",
    "version": 3
   },
   "file_extension": ".py",
   "mimetype": "text/x-python",
   "name": "python",
   "nbconvert_exporter": "python",
   "pygments_lexer": "ipython3",
   "version": "3.8.5"
  }
 },
 "nbformat": 4,
 "nbformat_minor": 4
}
