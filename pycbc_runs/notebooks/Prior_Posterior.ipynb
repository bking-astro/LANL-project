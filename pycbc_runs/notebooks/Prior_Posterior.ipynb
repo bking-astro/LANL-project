{
 "cells": [
  {
   "cell_type": "code",
   "execution_count": 14,
   "metadata": {},
   "outputs": [],
   "source": [
    "%matplotlib inline\n",
    "import warnings\n",
    "warnings.filterwarnings('ignore')\n",
    "from matplotlib import pyplot as plt\n",
    "from matplotlib import rcParams\n",
    "rcParams['font.family'] = 'stixgeneral'\n",
    "rcParams['mathtext.fontset'] = 'stix'\n",
    "from pycbc import conversions, cosmology\n",
    "from pycbc.distributions import Uniform, Gaussian"
   ]
  },
  {
   "cell_type": "markdown",
   "metadata": {},
   "source": [
    "## Uniform Lambda Priors"
   ]
  },
  {
   "cell_type": "code",
   "execution_count": 2,
   "metadata": {},
   "outputs": [],
   "source": [
    "from pycbc.conversions import primary_mass, secondary_mass\n",
    "labels = ['lambda_s', 'lambda1', 'lambda2', 'lambda_tilde', 'mass1', 'mass2', 'radius', 'mchirp']\n",
    "samples_prior_unilam = {l: [] for l in labels}\n",
    "\n",
    "dist_l = Uniform(lambda_s=(0., 5000.))\n",
    "dist_m = Uniform(mass1=(1.0, 2.0), mass2=(1.0, 2.0))\n",
    "for (l,), (m1, m2) in zip(dist_l.rvs(size=1000000), dist_m.rvs(size=1000000)):\n",
    "    m1 = primary_mass(m1, m2)\n",
    "    m2 = secondary_mass(m1, m2)\n",
    "    #if m1 < m2:\n",
    "    #    continue\n",
    "    # apply mchirp\n",
    "    mchirp = conversions.mchirp_from_mass1_mass2(m1, m2)\n",
    "    if not 1.1876 < mchirp < 1.2076:\n",
    "        continue\n",
    "\n",
    "    # calculate component lambdas from lambda_symmetric\n",
    "    l1 = l*(m2/m1)**3\n",
    "    l2 = l*(m1/m2)**3\n",
    "    # calculate lambda_tilde from constrained lambdas\n",
    "    lt = conversions.lambda_tilde(m1, m2, l1, l2)\n",
    "\n",
    "    # apply lambda_tilde cut\n",
    "    if lt >= 1300:\n",
    "        continue\n",
    "        \n",
    "    r = 11.2*(mchirp/(1+cosmology.redshift(40.7)))*((lt)/800)**(1./6.)\n",
    "    #print(r)\n",
    "    # store samples\n",
    "    samples_prior_unilam['mass1'].append(m1)\n",
    "    samples_prior_unilam['mass2'].append(m2)\n",
    "    samples_prior_unilam['mchirp'].append(mchirp)\n",
    "    samples_prior_unilam['radius'].append(r)\n",
    "    samples_prior_unilam['lambda_s'].append(l)\n",
    "    samples_prior_unilam['lambda1'].append(l1)\n",
    "    samples_prior_unilam['lambda2'].append(l2)\n",
    "    samples_prior_unilam['lambda_tilde'].append(lt)"
   ]
  },
  {
   "cell_type": "markdown",
   "metadata": {},
   "source": [
    "## Prior from EOS data"
   ]
  },
  {
   "cell_type": "code",
   "execution_count": 4,
   "metadata": {},
   "outputs": [],
   "source": [
    "import pycbc.cosmology\n",
    "from pycbc.conversions import primary_mass, secondary_mass\n",
    "import numpy\n",
    "\n",
    "labels = ['lambda1', 'lambda2', 'lambda_tilde', 'mass1', 'mass2', 'radius', 'mchirp', 'eos']\n",
    "samples_prior_rec2nsat = {l: [] for l in labels}\n",
    "distance = 40.7\n",
    "\n",
    "dist_eos = Uniform(eos=(1, 2000.9))\n",
    "dist_m = Uniform(mass1=(1.0, 2.0), mass2=(1.0, 2.0))\n",
    "for (e,), (m1, m2) in zip(dist_eos.rvs(size=1000000), dist_m.rvs(size=1000000)):\n",
    "    #if m1 < m2:\n",
    "    #    continue\n",
    "    m1p = primary_mass(m1, m2)\n",
    "    m2s = secondary_mass(m1, m2)\n",
    "    # apply mchirp\n",
    "    mchirp = conversions.mchirp_from_mass1_mass2(m1p, m2s)\n",
    "    if not 1.1876 < mchirp < 1.2076:\n",
    "        continue\n",
    "\n",
    "    e = int(e)\n",
    "    \n",
    "    MRLname = 'cs3MRL_2/'\n",
    "    \n",
    "    tov_file = '/Users/brendanking/Documents/LANL_Project_eos/' + MRLname + str(e) + '.dat'\n",
    "    data = numpy.loadtxt(tov_file)\n",
    "    mass_from_file = data[:, 0]\n",
    "    lambda_from_file = data[:, 2]\n",
    "    \n",
    "    m1_src = m1p/(1.0 + pycbc.cosmology.redshift(distance))\n",
    "    \n",
    "    l1 = numpy.interp(m1_src, mass_from_file, lambda_from_file)\n",
    "    \n",
    "    m2_src = m2s/(1.0 + pycbc.cosmology.redshift(distance))\n",
    "    l2 = numpy.interp(m2_src, mass_from_file, lambda_from_file)\n",
    "    \n",
    "    \n",
    "    lt = conversions.lambda_tilde(m1_src, m2_src, l1, l2)\n",
    "\n",
    "    samples_prior_rec2nsat['mass1'].append(m1)\n",
    "    samples_prior_rec2nsat['mass2'].append(m2)\n",
    "    #samples4['mchirp'].append(mchirp)\n",
    "    #samples4['radius'].append(r)\n",
    "    #samples4['lambda_s'].append(l)\n",
    "    samples_prior_rec2nsat['lambda1'].append(l1)\n",
    "    samples_prior_rec2nsat['lambda2'].append(l2)\n",
    "    samples_prior_rec2nsat['lambda_tilde'].append(lt)"
   ]
  },
  {
   "cell_type": "code",
   "execution_count": 6,
   "metadata": {},
   "outputs": [],
   "source": [
    "fig, ax = plt.subplots(1, 1, figsize=(6, 6))\n",
    "params = ['lambda_s']\n",
    "ax_labels = [r'$\\tilde \\Lambda$']\n",
    "#ax_bounds = [(0, 5000), (0, 5000), (0, 5000), (1.6, 18)]\n",
    "#for a, p, l, b in zip(ax.flatten(), params, ax_labels, ax_bounds):\n",
    "#for a, p, l in zip(ax.flatten(), params, ax_labels):\n",
    "#max_param_val = int(max(samples4[p]))\n",
    "#num_bins = max_param_val/100 if max_param_val > 2 else 50\n",
    "num_bins = 25\n",
    "h = ax.hist(samples_prior_rec2nsat['lambda_tilde'], bins=num_bins)\n",
    "#ax.set(xlabel=l)\n",
    "ax.xaxis.label.set_size(16)\n",
    "plt.tight_layout()"
   ]
  },
  {
   "cell_type": "markdown",
   "metadata": {},
   "source": [
    "## Posterior"
   ]
  },
  {
   "cell_type": "code",
   "execution_count": 10,
   "metadata": {},
   "outputs": [
    {
     "ename": "KeyError",
     "evalue": "\"Unable to open object (object 'lambdasym' doesn't exist)\"",
     "output_type": "error",
     "traceback": [
      "\u001b[0;31m---------------------------------------------------------------------------\u001b[0m",
      "\u001b[0;31mKeyError\u001b[0m                                  Traceback (most recent call last)",
      "\u001b[0;32m<ipython-input-10-e5a04bacbf86>\u001b[0m in \u001b[0;36m<module>\u001b[0;34m\u001b[0m\n\u001b[1;32m     10\u001b[0m \u001b[0mm1\u001b[0m\u001b[0;34m=\u001b[0m\u001b[0mprimary_mass\u001b[0m\u001b[0;34m(\u001b[0m\u001b[0mfp\u001b[0m\u001b[0;34m[\u001b[0m\u001b[0;34m'samples'\u001b[0m\u001b[0;34m]\u001b[0m\u001b[0;34m[\u001b[0m\u001b[0;34m'mass1'\u001b[0m\u001b[0;34m]\u001b[0m\u001b[0;34m[\u001b[0m\u001b[0;36m0\u001b[0m\u001b[0;34m:\u001b[0m\u001b[0;36m8000\u001b[0m\u001b[0;34m]\u001b[0m\u001b[0;34m,\u001b[0m \u001b[0mfp\u001b[0m\u001b[0;34m[\u001b[0m\u001b[0;34m'samples'\u001b[0m\u001b[0;34m]\u001b[0m\u001b[0;34m[\u001b[0m\u001b[0;34m'mass2'\u001b[0m\u001b[0;34m]\u001b[0m\u001b[0;34m[\u001b[0m\u001b[0;36m0\u001b[0m\u001b[0;34m:\u001b[0m\u001b[0;36m8000\u001b[0m\u001b[0;34m]\u001b[0m\u001b[0;34m)\u001b[0m\u001b[0;34m\u001b[0m\u001b[0;34m\u001b[0m\u001b[0m\n\u001b[1;32m     11\u001b[0m \u001b[0mm2\u001b[0m\u001b[0;34m=\u001b[0m\u001b[0msecondary_mass\u001b[0m\u001b[0;34m(\u001b[0m\u001b[0mfp\u001b[0m\u001b[0;34m[\u001b[0m\u001b[0;34m'samples'\u001b[0m\u001b[0;34m]\u001b[0m\u001b[0;34m[\u001b[0m\u001b[0;34m'mass1'\u001b[0m\u001b[0;34m]\u001b[0m\u001b[0;34m[\u001b[0m\u001b[0;36m0\u001b[0m\u001b[0;34m:\u001b[0m\u001b[0;36m8000\u001b[0m\u001b[0;34m]\u001b[0m\u001b[0;34m,\u001b[0m \u001b[0mfp\u001b[0m\u001b[0;34m[\u001b[0m\u001b[0;34m'samples'\u001b[0m\u001b[0;34m]\u001b[0m\u001b[0;34m[\u001b[0m\u001b[0;34m'mass2'\u001b[0m\u001b[0;34m]\u001b[0m\u001b[0;34m[\u001b[0m\u001b[0;36m0\u001b[0m\u001b[0;34m:\u001b[0m\u001b[0;36m8000\u001b[0m\u001b[0;34m]\u001b[0m\u001b[0;34m)\u001b[0m\u001b[0;34m\u001b[0m\u001b[0;34m\u001b[0m\u001b[0m\n\u001b[0;32m---> 12\u001b[0;31m \u001b[0mls\u001b[0m\u001b[0;34m=\u001b[0m\u001b[0mfp\u001b[0m\u001b[0;34m[\u001b[0m\u001b[0;34m'samples'\u001b[0m\u001b[0;34m]\u001b[0m\u001b[0;34m[\u001b[0m\u001b[0;34m'lambdasym'\u001b[0m\u001b[0;34m]\u001b[0m\u001b[0;34m[\u001b[0m\u001b[0;36m0\u001b[0m\u001b[0;34m:\u001b[0m\u001b[0;36m8000\u001b[0m\u001b[0;34m]\u001b[0m\u001b[0;34m\u001b[0m\u001b[0;34m\u001b[0m\u001b[0m\n\u001b[0m\u001b[1;32m     13\u001b[0m \u001b[0ml1\u001b[0m\u001b[0;34m=\u001b[0m\u001b[0mls\u001b[0m\u001b[0;34m*\u001b[0m\u001b[0;34m(\u001b[0m\u001b[0mm2\u001b[0m\u001b[0;34m/\u001b[0m\u001b[0mm1\u001b[0m\u001b[0;34m)\u001b[0m\u001b[0;34m**\u001b[0m\u001b[0;36m3.\u001b[0m\u001b[0;34m\u001b[0m\u001b[0;34m\u001b[0m\u001b[0m\n\u001b[1;32m     14\u001b[0m \u001b[0ml2\u001b[0m\u001b[0;34m=\u001b[0m\u001b[0mls\u001b[0m\u001b[0;34m*\u001b[0m\u001b[0;34m(\u001b[0m\u001b[0mm1\u001b[0m\u001b[0;34m/\u001b[0m\u001b[0mm2\u001b[0m\u001b[0;34m)\u001b[0m\u001b[0;34m**\u001b[0m\u001b[0;36m3.\u001b[0m\u001b[0;34m\u001b[0m\u001b[0;34m\u001b[0m\u001b[0m\n",
      "\u001b[0;32mh5py/_objects.pyx\u001b[0m in \u001b[0;36mh5py._objects.with_phil.wrapper\u001b[0;34m()\u001b[0m\n",
      "\u001b[0;32mh5py/_objects.pyx\u001b[0m in \u001b[0;36mh5py._objects.with_phil.wrapper\u001b[0;34m()\u001b[0m\n",
      "\u001b[0;32m/opt/anaconda3/lib/python3.8/site-packages/h5py/_hl/group.py\u001b[0m in \u001b[0;36m__getitem__\u001b[0;34m(self, name)\u001b[0m\n\u001b[1;32m    262\u001b[0m                 \u001b[0;32mraise\u001b[0m \u001b[0mValueError\u001b[0m\u001b[0;34m(\u001b[0m\u001b[0;34m\"Invalid HDF5 object reference\"\u001b[0m\u001b[0;34m)\u001b[0m\u001b[0;34m\u001b[0m\u001b[0;34m\u001b[0m\u001b[0m\n\u001b[1;32m    263\u001b[0m         \u001b[0;32melse\u001b[0m\u001b[0;34m:\u001b[0m\u001b[0;34m\u001b[0m\u001b[0;34m\u001b[0m\u001b[0m\n\u001b[0;32m--> 264\u001b[0;31m             \u001b[0moid\u001b[0m \u001b[0;34m=\u001b[0m \u001b[0mh5o\u001b[0m\u001b[0;34m.\u001b[0m\u001b[0mopen\u001b[0m\u001b[0;34m(\u001b[0m\u001b[0mself\u001b[0m\u001b[0;34m.\u001b[0m\u001b[0mid\u001b[0m\u001b[0;34m,\u001b[0m \u001b[0mself\u001b[0m\u001b[0;34m.\u001b[0m\u001b[0m_e\u001b[0m\u001b[0;34m(\u001b[0m\u001b[0mname\u001b[0m\u001b[0;34m)\u001b[0m\u001b[0;34m,\u001b[0m \u001b[0mlapl\u001b[0m\u001b[0;34m=\u001b[0m\u001b[0mself\u001b[0m\u001b[0;34m.\u001b[0m\u001b[0m_lapl\u001b[0m\u001b[0;34m)\u001b[0m\u001b[0;34m\u001b[0m\u001b[0;34m\u001b[0m\u001b[0m\n\u001b[0m\u001b[1;32m    265\u001b[0m \u001b[0;34m\u001b[0m\u001b[0m\n\u001b[1;32m    266\u001b[0m         \u001b[0motype\u001b[0m \u001b[0;34m=\u001b[0m \u001b[0mh5i\u001b[0m\u001b[0;34m.\u001b[0m\u001b[0mget_type\u001b[0m\u001b[0;34m(\u001b[0m\u001b[0moid\u001b[0m\u001b[0;34m)\u001b[0m\u001b[0;34m\u001b[0m\u001b[0;34m\u001b[0m\u001b[0m\n",
      "\u001b[0;32mh5py/_objects.pyx\u001b[0m in \u001b[0;36mh5py._objects.with_phil.wrapper\u001b[0;34m()\u001b[0m\n",
      "\u001b[0;32mh5py/_objects.pyx\u001b[0m in \u001b[0;36mh5py._objects.with_phil.wrapper\u001b[0;34m()\u001b[0m\n",
      "\u001b[0;32mh5py/h5o.pyx\u001b[0m in \u001b[0;36mh5py.h5o.open\u001b[0;34m()\u001b[0m\n",
      "\u001b[0;31mKeyError\u001b[0m: \"Unable to open object (object 'lambdasym' doesn't exist)\""
     ]
    }
   ],
   "source": [
    "from pycbc.inference.io import loadfile\n",
    "from pycbc.conversions import lambda_tilde\n",
    "\n",
    "labels = ['lambda_s', 'lambda1', 'lambda2', 'lambda_tilde', 'mass1', 'mass2', 'radius', 'mchirp']\n",
    "samples_post_unilam = {l: [] for l in labels}\n",
    "\n",
    "fp=loadfile('/home/soumi.de/projects/cbc/inference_for_events/GW170817_EOS/temps20_walkers200_runs/symmetric_lambda_common_comp_radius/uniformmass_lambdatilde1300_gooseneckgoodresolution/inference_nindep.hdf')\n",
    "\n",
    "#parameters = fp['samples'].keys()\n",
    "#samples = fp.read_samples(parameters, flatten=True)\n",
    "m1=primary_mass(fp['samples']['mass1'][0:8000], fp['samples']['mass2'][0:8000])\n",
    "m2=secondary_mass(fp['samples']['mass1'][0:8000], fp['samples']['mass2'][0:8000])\n",
    "ls=fp['samples']['lambdasym'][0:8000]\n",
    "l1=ls*(m2/m1)**3.\n",
    "l2=ls*(m1/m2)**3.\n",
    "\n",
    "#m1=samples['mass1']\n",
    "print((m1))\n",
    "samples_post_unilam['mass1'] = m1\n",
    "samples_post_unilam['mass2'] = m2\n",
    "samples_post_unilam['lambda1'] = l1\n",
    "samples_post_unilam['lambda2'] = l2\n",
    "samples_post_unilam['lambda_tilde'] = lambda_tilde(m1,m2,l1,l2)\n",
    "\n",
    "print(max(samples_post_unilam['lambda_tilde']))"
   ]
  },
  {
   "cell_type": "code",
   "execution_count": 16,
   "metadata": {},
   "outputs": [
    {
     "name": "stdout",
     "output_type": "stream",
     "text": [
      "[1.4328051  1.4539687  1.65433355 ... 1.56403614 1.47346194 1.40474413]\n",
      "591.2097902913442\n"
     ]
    }
   ],
   "source": [
    "from pycbc.inference.io import loadfile\n",
    "from pycbc.conversions import lambda_tilde\n",
    "\n",
    "labels = ['lambda1', 'lambda2', 'lambda_tilde', 'mass1', 'mass2', 'radius', 'mchirp', 'eos']\n",
    "samples_post_rec2nsat = {l: [] for l in labels}\n",
    "\n",
    "fp=loadfile('/Users/brendanking/Documents/LANL_project/data/completed_runs/cs3_run2_oldindex.hdf')\n",
    "\n",
    "#parameters = fp['samples'].keys()\n",
    "#samples = fp.read_samples(parameters, flatten=True)\n",
    "m1=primary_mass(fp['samples']['mass1'][0:8000], fp['samples']['mass2'][0:8000])\n",
    "m2=secondary_mass(fp['samples']['mass1'][0:8000], fp['samples']['mass2'][0:8000])\n",
    "l1=fp['samples']['lambda1'][0:8000]\n",
    "l2=fp['samples']['lambda2'][0:8000]\n",
    "\n",
    "#m1=samples['mass1']\n",
    "print((m1))\n",
    "samples_post_rec2nsat['mass1'] = m1\n",
    "samples_post_rec2nsat['mass2'] = m2\n",
    "samples_post_rec2nsat['lambda1'] = l1\n",
    "samples_post_rec2nsat['lambda2'] = l2\n",
    "samples_post_rec2nsat['lambda_tilde'] = lambda_tilde(m1,m2,l1,l2)\n",
    "\n",
    "print(max(samples_post_rec2nsat['lambda_tilde']))"
   ]
  },
  {
   "cell_type": "code",
   "execution_count": 17,
   "metadata": {},
   "outputs": [
    {
     "data": {
      "image/png": "[encoded data removed]",
      "text/plain": [
       "<Figure size 576x432 with 1 Axes>"
      ]
     },
     "metadata": {
      "needs_background": "light"
     },
     "output_type": "display_data"
    }
   ],
   "source": [
    "fig, ax = plt.subplots(1, 1, figsize=(8, 6))\n",
    "params = ['lambda_s']\n",
    "ax_labels = [r'$\\tilde \\Lambda$']\n",
    "#ax_bounds = [(0, 5000), (0, 5000), (0, 5000), (1.6, 18)]\n",
    "#for a, p, l, b in zip(ax.flatten(), params, ax_labels, ax_bounds):\n",
    "#for a, p, l in zip(ax.flatten(), params, ax_labels):\n",
    "#max_param_val = int(max(samples4[p]))\n",
    "#num_bins = max_param_val/100 if max_param_val > 2 else 50\n",
    "num_bins = 40\n",
    "ax.hist(samples_prior_unilam['lambda_tilde'], bins=40, histtype='step',\n",
    "        facecolor='None', edgecolor='red', ls='dotted', lw=2,\n",
    "            density=True, label=r\"Prior: Uniform $\\tilde \\Lambda$\")\n",
    "# ax.hist(samples_post_un['lambda_tilde'], bins=num_bins, histtype='step',\n",
    "#         facecolor='None', edgecolor='red', ls='solid', lw=2,\n",
    "#         density=True, label=r\"Posterior: Uniform $\\tilde \\Lambda$ prior\")\n",
    "ax.hist(samples_prior_rec2nsat['lambda_tilde'], bins=40, histtype='step',\n",
    "        facecolor='None', edgecolor='blue', ls='dotted', lw=2, density=True, label=r\"Prior: Uniform radius 2nsat\")\n",
    "ax.hist(samples_post_rec2nsat['lambda_tilde'], bins=num_bins, histtype='step',\n",
    "        facecolor='None', edgecolor='blue', ls='solid', lw=2,\n",
    "        density=True, label=r\"Posterior: Uniform radius 2nsat prior\")\n",
    "#ax.set(xlabel=l)\n",
    "#ax.xaxis.label.set_size(22)\n",
    "#ax.yaxis.label.set_size(22)\n",
    "\n",
    "plt.tick_params(axis='both', which='major', labelsize=16)\n",
    "plt.xlabel(r\"$\\tilde \\Lambda$\", fontsize=18)\n",
    "plt.ylabel(r\"Probability Density\", fontsize=18)\n",
    "plt.legend(fontsize=15)\n",
    "plt.title('SNR 33', fontsize=18, pad=18)\n",
    "plt.tight_layout()\n",
    "plt.show()"
   ]
  },
  {
   "cell_type": "code",
   "execution_count": null,
   "metadata": {},
   "outputs": [],
   "source": []
  }
 ],
 "metadata": {
  "kernelspec": {
   "display_name": "Python 3",
   "language": "python",
   "name": "python3"
  },
  "language_info": {
   "codemirror_mode": {
    "name": "ipython",
    "version": 3
   },
   "file_extension": ".py",
   "mimetype": "text/x-python",
   "name": "python",
   "nbconvert_exporter": "python",
   "pygments_lexer": "ipython3",
   "version": "3.8.5"
  }
 },
 "nbformat": 4,
 "nbformat_minor": 4
}
