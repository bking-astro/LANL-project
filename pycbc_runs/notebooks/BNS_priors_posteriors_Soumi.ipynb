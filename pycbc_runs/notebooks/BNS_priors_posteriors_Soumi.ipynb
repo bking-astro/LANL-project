{
 "cells": [
  {
   "cell_type": "code",
   "execution_count": 3,
   "metadata": {},
   "outputs": [
    {
     "name": "stderr",
     "output_type": "stream",
     "text": [
      "PyCBC.libutils: pkg-config call failed, setting NO_PKGCONFIG=1\n"
     ]
    }
   ],
   "source": [
    "import warnings\n",
    "warnings.filterwarnings('ignore')\n",
    "from matplotlib import pyplot as plt\n",
    "from matplotlib import rcParams\n",
    "rcParams['font.family'] = 'stixgeneral'\n",
    "rcParams['mathtext.fontset'] = 'stix'\n",
    "from pycbc import conversions, cosmology\n",
    "from pycbc.distributions import Uniform, Gaussian"
   ]
  },
  {
   "cell_type": "code",
   "execution_count": null,
   "metadata": {},
   "outputs": [],
   "source": []
  },
  {
   "cell_type": "markdown",
   "metadata": {},
   "source": [
    "## unilambda Priors"
   ]
  },
  {
   "cell_type": "code",
   "execution_count": 4,
   "metadata": {},
   "outputs": [],
   "source": [
    "from pycbc.conversions import primary_mass, secondary_mass\n",
    "labels = ['lambda_s', 'lambda1', 'lambda2', 'lambda_tilde', 'mass1', 'mass2', 'radius', 'mchirp']\n",
    "samples_prior_unilam = {l: [] for l in labels}\n",
    "\n",
    "dist_l = Uniform(lambda_s=(0., 5000.))\n",
    "dist_m = Uniform(mass1=(1.0, 2.0), mass2=(1.0, 2.0))\n",
    "for (l,), (m1, m2) in zip(dist_l.rvs(size=1000000), dist_m.rvs(size=1000000)):\n",
    "    m1 = primary_mass(m1, m2)\n",
    "    m2 = secondary_mass(m1, m2)\n",
    "    #if m1 < m2:\n",
    "    #    continue\n",
    "    # apply mchirp\n",
    "    mchirp = conversions.mchirp_from_mass1_mass2(m1, m2)\n",
    "    if not 1.1876 < mchirp < 1.2076:\n",
    "        continue\n",
    "\n",
    "    # calculate component lambdas from lambda_symmetric\n",
    "    l1 = l*(m2/m1)**3\n",
    "    l2 = l*(m1/m2)**3\n",
    "    # calculate lambda_tilde from constrained lambdas\n",
    "    lt = conversions.lambda_tilde(m1, m2, l1, l2)\n",
    "\n",
    "    # apply lambda_tilde cut\n",
    "    if lt >= 1300:\n",
    "        continue\n",
    "        \n",
    "    r = 11.2*(mchirp/(1+cosmology.redshift(40.7)))*((lt)/800)**(1./6.)\n",
    "    #print(r)\n",
    "    # store samples\n",
    "    samples_prior_unilam['mass1'].append(m1)\n",
    "    samples_prior_unilam['mass2'].append(m2)\n",
    "    samples_prior_unilam['mchirp'].append(mchirp)\n",
    "    samples_prior_unilam['radius'].append(r)\n",
    "    samples_prior_unilam['lambda_s'].append(l)\n",
    "    samples_prior_unilam['lambda1'].append(l1)\n",
    "    samples_prior_unilam['lambda2'].append(l2)\n",
    "    samples_prior_unilam['lambda_tilde'].append(lt)"
   ]
  },
  {
   "cell_type": "markdown",
   "metadata": {},
   "source": [
    "## unilambda Posteriors"
   ]
  },
  {
   "cell_type": "code",
   "execution_count": 13,
   "metadata": {},
   "outputs": [
    {
     "name": "stdout",
     "output_type": "stream",
     "text": [
      "[1.42380095 1.63758607 1.42328138 ... 1.40074518 1.4239902  1.46915974]\n",
      "1292.497633865224\n"
     ]
    }
   ],
   "source": [
    "from pycbc.inference.io import loadfile\n",
    "from pycbc.conversions import lambda_tilde\n",
    "\n",
    "labels = ['lambda_s', 'lambda1', 'lambda2', 'lambda_tilde', 'mass1', 'mass2', 'radius', 'mchirp']\n",
    "samples_post_unilam = {l: [] for l in labels}\n",
    "\n",
    "fp=loadfile('/home/soumi.de/projects/cbc/inference_for_events/GW170817_EOS/temps20_walkers200_runs/symmetric_lambda_common_comp_radius/uniformmass_lambdatilde1300_gooseneckgoodresolution/inference_nindep.hdf')\n",
    "\n",
    "#parameters = fp['samples'].keys()\n",
    "#samples = fp.read_samples(parameters, flatten=True)\n",
    "m1=primary_mass(fp['samples']['mass1'][0:8000], fp['samples']['mass2'][0:8000])\n",
    "m2=secondary_mass(fp['samples']['mass1'][0:8000], fp['samples']['mass2'][0:8000])\n",
    "ls=fp['samples']['lambdasym'][0:8000]\n",
    "l1=ls*(m2/m1)**3.\n",
    "l2=ls*(m1/m2)**3.\n",
    "\n",
    "#m1=samples['mass1']\n",
    "print((m1))\n",
    "samples_post_unilam['mass1'] = m1\n",
    "samples_post_unilam['mass2'] = m2\n",
    "samples_post_unilam['lambda1'] = l1\n",
    "samples_post_unilam['lambda2'] = l2\n",
    "samples_post_unilam['lambda_tilde'] = lambda_tilde(m1,m2,l1,l2)\n",
    "\n",
    "print(max(samples_post_unilam['lambda_tilde']))\n"
   ]
  },
  {
   "cell_type": "markdown",
   "metadata": {},
   "source": [
    "## 2nsat priors"
   ]
  },
  {
   "cell_type": "code",
   "execution_count": 9,
   "metadata": {},
   "outputs": [],
   "source": [
    "import pycbc.cosmology\n",
    "from pycbc.conversions import primary_mass, secondary_mass\n",
    "import numpy\n",
    "\n",
    "labels = ['lambda1', 'lambda2', 'lambda_tilde', 'mass1', 'mass2', 'radius', 'mchirp', 'eos']\n",
    "samples_prior_rec2nsat = {l: [] for l in labels}\n",
    "distance = 40.7\n",
    "\n",
    "dist_eos = Uniform(eos=(1, 2000.9))\n",
    "dist_m = Uniform(mass1=(1.0, 2.0), mass2=(1.0, 2.0))\n",
    "for (e,), (m1, m2) in zip(dist_eos.rvs(size=1000000), dist_m.rvs(size=1000000)):\n",
    "    #if m1 < m2:\n",
    "    #    continue\n",
    "    m1p = primary_mass(m1, m2)\n",
    "    m2s = secondary_mass(m1, m2)\n",
    "    # apply mchirp\n",
    "    mchirp = conversions.mchirp_from_mass1_mass2(m1p, m2s)\n",
    "    if not 1.1876 < mchirp < 1.2076:\n",
    "        continue\n",
    "\n",
    "    e = int(e)\n",
    "    \n",
    "    tov_file = '/home/soumi.de/gw170817-eft-eos/eos_data/2nsat/' + str(e) + '.dat'\n",
    "    data = numpy.loadtxt(tov_file)\n",
    "    mass_from_file = data[:, 1]\n",
    "    lambda_from_file = data[:, 2]\n",
    "    \n",
    "    m1_src = m1p/(1.0 + pycbc.cosmology.redshift(distance))\n",
    "    \n",
    "    l1 = numpy.interp(m1_src, mass_from_file, lambda_from_file)\n",
    "    \n",
    "    m2_src = m2s/(1.0 + pycbc.cosmology.redshift(distance))\n",
    "    l2 = numpy.interp(m2_src, mass_from_file, lambda_from_file)\n",
    "    \n",
    "    \n",
    "    lt = conversions.lambda_tilde(m1_src, m2_src, l1, l2)\n",
    "\n",
    "    samples_prior_rec2nsat['mass1'].append(m1)\n",
    "    samples_prior_rec2nsat['mass2'].append(m2)\n",
    "    #samples4['mchirp'].append(mchirp)\n",
    "    #samples4['radius'].append(r)\n",
    "    #samples4['lambda_s'].append(l)\n",
    "    samples_prior_rec2nsat['lambda1'].append(l1)\n",
    "    samples_prior_rec2nsat['lambda2'].append(l2)\n",
    "    samples_prior_rec2nsat['lambda_tilde'].append(lt)\n",
    "    \n"
   ]
  },
  {
   "cell_type": "code",
   "execution_count": null,
   "metadata": {},
   "outputs": [],
   "source": [
    "fig, ax = plt.subplots(1, 1, figsize=(6, 6))\n",
    "params = ['lambda_s']\n",
    "ax_labels = [r'$\\tilde \\Lambda$']\n",
    "#ax_bounds = [(0, 5000), (0, 5000), (0, 5000), (1.6, 18)]\n",
    "#for a, p, l, b in zip(ax.flatten(), params, ax_labels, ax_bounds):\n",
    "#for a, p, l in zip(ax.flatten(), params, ax_labels):\n",
    "#max_param_val = int(max(samples4[p]))\n",
    "#num_bins = max_param_val/100 if max_param_val > 2 else 50\n",
    "num_bins = 25\n",
    "h = ax.hist(samples4['lambda_tilde'], bins=num_bins)\n",
    "#ax.set(xlabel=l)\n",
    "ax.xaxis.label.set_size(16)\n",
    "plt.tight_layout()"
   ]
  },
  {
   "cell_type": "markdown",
   "metadata": {},
   "source": [
    "## rec2nsat posteriors"
   ]
  },
  {
   "cell_type": "code",
   "execution_count": 10,
   "metadata": {},
   "outputs": [
    {
     "name": "stdout",
     "output_type": "stream",
     "text": [
      "[1.42895178 1.52120342 1.53053165 ... 1.52823983 1.56716159 1.63017166]\n",
      "562.9898458612475\n"
     ]
    }
   ],
   "source": [
    "from pycbc.inference.io import loadfile\n",
    "from pycbc.conversions import lambda_tilde\n",
    "\n",
    "labels = ['lambda1', 'lambda2', 'lambda_tilde', 'mass1', 'mass2', 'radius', 'mchirp', 'eos']\n",
    "samples_post_rec2nsat = {l: [] for l in labels}\n",
    "\n",
    "fp=loadfile('/home/soumi.de/gw170817-eft-eos/posterior_data/2nsat/uniform_mass_prior/posterior.hdf')\n",
    "\n",
    "#parameters = fp['samples'].keys()\n",
    "#samples = fp.read_samples(parameters, flatten=True)\n",
    "m1=primary_mass(fp['samples']['mass1'][0:8000], fp['samples']['mass2'][0:8000])\n",
    "m2=secondary_mass(fp['samples']['mass1'][0:8000], fp['samples']['mass2'][0:8000])\n",
    "l1=fp['samples']['lambda1'][0:8000]\n",
    "l2=fp['samples']['lambda2'][0:8000]\n",
    "\n",
    "#m1=samples['mass1']\n",
    "print((m1))\n",
    "samples_post_rec2nsat['mass1'] = m1\n",
    "samples_post_rec2nsat['mass2'] = m2\n",
    "samples_post_rec2nsat['lambda1'] = l1\n",
    "samples_post_rec2nsat['lambda2'] = l2\n",
    "samples_post_rec2nsat['lambda_tilde'] = lambda_tilde(m1,m2,l1,l2)\n",
    "\n",
    "print(max(samples_post_rec2nsat['lambda_tilde']))"
   ]
  },
  {
   "cell_type": "code",
   "execution_count": 14,
   "metadata": {},
   "outputs": [
    {
     "data": {
      "image/png": "[encoded data removed]",
      "text/plain": [
       "<Figure size 576x432 with 1 Axes>"
      ]
     },
     "metadata": {
      "needs_background": "light"
     },
     "output_type": "display_data"
    }
   ],
   "source": [
    "fig, ax = plt.subplots(1, 1, figsize=(8, 6))\n",
    "params = ['lambda_s']\n",
    "ax_labels = [r'$\\tilde \\Lambda$']\n",
    "#ax_bounds = [(0, 5000), (0, 5000), (0, 5000), (1.6, 18)]\n",
    "#for a, p, l, b in zip(ax.flatten(), params, ax_labels, ax_bounds):\n",
    "#for a, p, l in zip(ax.flatten(), params, ax_labels):\n",
    "#max_param_val = int(max(samples4[p]))\n",
    "#num_bins = max_param_val/100 if max_param_val > 2 else 50\n",
    "num_bins = 40\n",
    "ax.hist(samples_prior_unilam['lambda_tilde'], bins=40, histtype='step',\n",
    "        facecolor='None', edgecolor='red', ls='dotted', lw=2,\n",
    "            density=True, label=r\"Prior: Uniform $\\tilde \\Lambda$\")\n",
    "ax.hist(samples_post_unilam['lambda_tilde'], bins=num_bins, histtype='step',\n",
    "        facecolor='None', edgecolor='red', ls='solid', lw=2,\n",
    "        density=True, label=r\"Posterior: Uniform $\\tilde \\Lambda$ prior\")\n",
    "ax.hist(samples_prior_rec2nsat['lambda_tilde'], bins=40, histtype='step',\n",
    "        facecolor='None', edgecolor='blue', ls='dotted', lw=2, density=True, label=r\"Prior: Uniform radius 2nsat\")\n",
    "ax.hist(samples_post_rec2nsat['lambda_tilde'], bins=num_bins, histtype='step',\n",
    "        facecolor='None', edgecolor='blue', ls='solid', lw=2,\n",
    "        density=True, label=r\"Posterior: Uniform radius 2nsat prior\")\n",
    "#ax.set(xlabel=l)\n",
    "#ax.xaxis.label.set_size(22)\n",
    "#ax.yaxis.label.set_size(22)\n",
    "\n",
    "plt.tick_params(axis='both', which='major', labelsize=16)\n",
    "plt.xlabel(r\"$\\tilde \\Lambda$\", fontsize=18)\n",
    "plt.ylabel(r\"Probability Density\", fontsize=18)\n",
    "plt.legend(fontsize=15)\n",
    "plt.title('SNR 33', fontsize=18, pad=18)\n",
    "plt.tight_layout()"
   ]
  },
  {
   "cell_type": "markdown",
   "metadata": {},
   "source": [
    "## SNR 100"
   ]
  },
  {
   "cell_type": "markdown",
   "metadata": {},
   "source": [
    "### uniLambda posteriors"
   ]
  },
  {
   "cell_type": "code",
   "execution_count": null,
   "metadata": {},
   "outputs": [],
   "source": [
    "from pycbc.inference.io import loadfile\n",
    "from pycbc.conversions import lambda_tilde\n",
    "\n",
    "labels = ['lambda_s', 'lambda1', 'lambda2', 'lambda_tilde', 'mass1', 'mass2', 'radius', 'mchirp']\n",
    "samples_post_unilam_snr100 = {l: [] for l in labels}\n",
    "\n",
    "fp=loadfile('/home/soumi.de/projects/cbc/GW170817_injection_study/pe_runs/gw170817_opt_ra_dec_design_2nsat830_gaussian_noise_fix_radecdl_injimrrectf2/rec_unilambda/inference_nindep.hdf')\n",
    "\n",
    "#parameters = fp['samples'].keys()\n",
    "#samples = fp.read_samples(parameters, flatten=True)\n",
    "m1=primary_mass(fp['samples']['mass1'][0:8000], fp['samples']['mass2'][0:8000])\n",
    "m2=secondary_mass(fp['samples']['mass1'][0:8000], fp['samples']['mass2'][0:8000])\n",
    "ls=fp['samples']['lambdasym'][0:8000]\n",
    "l1=ls*(m2/m1)**3.\n",
    "l2=ls*(m1/m2)**3.\n",
    "\n",
    "#m1=samples['mass1']\n",
    "print((m1))\n",
    "samples_post_unilam_snr100['mass1'] = m1\n",
    "samples_post_unilam_snr100['mass2'] = m2\n",
    "samples_post_unilam_snr100['lambda1'] = l1\n",
    "samples_post_unilam_snr100['lambda2'] = l2\n",
    "samples_post_unilam_snr100['lambda_tilde'] = lambda_tilde(m1,m2,l1,l2)\n",
    "\n",
    "print(max(samples_post_unilam_snr100['lambda_tilde']))"
   ]
  },
  {
   "cell_type": "markdown",
   "metadata": {},
   "source": [
    "### rec2nsat posteriors"
   ]
  },
  {
   "cell_type": "code",
   "execution_count": null,
   "metadata": {},
   "outputs": [],
   "source": [
    "from pycbc.inference.io import loadfile\n",
    "from pycbc.conversions import lambda_tilde\n",
    "\n",
    "labels = ['lambda1', 'lambda2', 'lambda_tilde', 'mass1', 'mass2', 'radius', 'mchirp', 'eos']\n",
    "samples_post_rec2nsat_snr100 = {l: [] for l in labels}\n",
    "\n",
    "fp=loadfile('/home/soumi.de/projects/cbc/GW170817_injection_study/pe_runs/gw170817_opt_ra_dec_design_2nsat830_gaussian_noise_fix_radecdl_injimrrectf2/rec_2nsat/inference_nindep_extracted2.hdf')\n",
    "\n",
    "#parameters = fp['samples'].keys()\n",
    "#samples = fp.read_samples(parameters, flatten=True)\n",
    "m1=primary_mass(fp['samples']['mass1'][0:8000], fp['samples']['mass2'][0:8000])\n",
    "m2=secondary_mass(fp['samples']['mass1'][0:8000], fp['samples']['mass2'][0:8000])\n",
    "l1=fp['samples']['lambda1'][0:8000]\n",
    "l2=fp['samples']['lambda2'][0:8000]\n",
    "\n",
    "#m1=samples['mass1']\n",
    "print((m1))\n",
    "samples_post_rec2nsat_snr100['mass1'] = m1\n",
    "samples_post_rec2nsat_snr100['mass2'] = m2\n",
    "samples_post_rec2nsat_snr100['lambda1'] = l1\n",
    "samples_post_rec2nsat_snr100['lambda2'] = l2\n",
    "samples_post_rec2nsat_snr100['lambda_tilde'] = lambda_tilde(m1,m2,l1,l2)\n",
    "\n",
    "print(max(samples_post_rec2nsat_snr100['lambda_tilde']))"
   ]
  },
  {
   "cell_type": "code",
   "execution_count": null,
   "metadata": {},
   "outputs": [],
   "source": [
    "fig, ax = plt.subplots(1, 1, figsize=(8, 6))\n",
    "params = ['lambda_s']\n",
    "ax_labels = [r'$\\tilde \\Lambda$']\n",
    "#ax_bounds = [(0, 5000), (0, 5000), (0, 5000), (1.6, 18)]\n",
    "#for a, p, l, b in zip(ax.flatten(), params, ax_labels, ax_bounds):\n",
    "#for a, p, l in zip(ax.flatten(), params, ax_labels):\n",
    "#max_param_val = int(max(samples4[p]))\n",
    "#num_bins = max_param_val/100 if max_param_val > 2 else 50\n",
    "num_bins = 40\n",
    "ax.hist(samples_prior_unilam['lambda_tilde'], bins=40, histtype='step',\n",
    "        facecolor='None', edgecolor='red', ls='dotted', lw=2,\n",
    "            density=True, label=r\"Prior: Uniform $\\tilde \\Lambda$\")\n",
    "ax.hist(samples_post_unilam_snr100['lambda_tilde'], bins=num_bins, histtype='step',\n",
    "        facecolor='None', edgecolor='red', ls='solid', lw=2,\n",
    "        density=True, label=r\"Posterior: Uniform $\\tilde \\Lambda$ prior\")\n",
    "ax.hist(samples_prior_rec2nsat['lambda_tilde'], bins=40, histtype='step',\n",
    "        facecolor='None', edgecolor='blue', ls='dotted', lw=2, density=True, label=r\"Prior: Uniform radius 2nsat\")\n",
    "ax.hist(samples_post_rec2nsat_snr100['lambda_tilde'], bins=num_bins, histtype='step',\n",
    "        facecolor='None', edgecolor='blue', ls='solid', lw=2,\n",
    "        density=True, label=r\"Posterior: Uniform radius 2nsat prior\")\n",
    "#ax.set(xlabel=l)\n",
    "#ax.xaxis.label.set_size(22)\n",
    "#ax.yaxis.label.set_size(22)\n",
    "\n",
    "plt.tick_params(axis='both', which='major', labelsize=16)\n",
    "plt.xlabel(r\"$\\tilde \\Lambda$\", fontsize=18)\n",
    "plt.ylabel(r\"Probability Density\", fontsize=18)\n",
    "plt.legend(fontsize=15)\n",
    "plt.title('SNR 100', fontsize=18, pad=18)\n",
    "plt.tight_layout()"
   ]
  },
  {
   "cell_type": "markdown",
   "metadata": {},
   "source": [
    "## Plot Lambda_1.4 comparison"
   ]
  },
  {
   "cell_type": "code",
   "execution_count": 13,
   "metadata": {},
   "outputs": [
    {
     "name": "stdout",
     "output_type": "stream",
     "text": [
      "8000\n"
     ]
    }
   ],
   "source": [
    "from pycbc.inference.io import loadfile\n",
    "from pycbc.conversions import lambda_tilde, primary_mass, secondary_mass\n",
    "\n",
    "labels = ['lambda1', 'lambda2', 'lambda_tilde', 'mass1', 'mass2', 'radius_1p4']\n",
    "samples_post_rec2nsat_injimrrectf2 = {l: [] for l in labels}\n",
    "\n",
    "fp=loadfile('/home/soumi.de/projects/cbc/GW170817_injection_study/pe_runs/gw170817_opt_ra_dec_design_2nsat830_gaussian_noise_fix_radecdl_injimrrectf2/rec_2nsat/inference_nindep.hdf')\n",
    "\n",
    "samples_post_rec2nsat_injimrrectf2['mass1'] = primary_mass(fp['samples']['mass1'][0:8000], fp['samples']['mass2'][0:8000])\n",
    "samples_post_rec2nsat_injimrrectf2['mass2'] = secondary_mass(fp['samples']['mass1'][0:8000], fp['samples']['mass2'][0:8000])\n",
    "samples_post_rec2nsat_injimrrectf2['lambda1'] = fp['samples']['lambda1'][0:8000]\n",
    "samples_post_rec2nsat_injimrrectf2['lambda2'] = fp['samples']['lambda2'][0:8000]\n",
    "samples_post_rec2nsat_injimrrectf2['radius_1p4'] = fp['samples']['radius_1p4'][0:8000]\n",
    "samples_post_rec2nsat_injimrrectf2['lambda_tilde'] = lambda_tilde(samples_post_rec2nsat_injimrrectf2['mass1'],samples_post_rec2nsat_injimrrectf2['mass2'],samples_post_rec2nsat_injimrrectf2['lambda1'],samples_post_rec2nsat_injimrrectf2['lambda2'])\n",
    "\n",
    "print(len(samples_post_rec2nsat_injimrrectf2['lambda_tilde']))"
   ]
  },
  {
   "cell_type": "code",
   "execution_count": 12,
   "metadata": {},
   "outputs": [
    {
     "name": "stdout",
     "output_type": "stream",
     "text": [
      "8000\n"
     ]
    }
   ],
   "source": [
    "from pycbc.inference.io import loadfile\n",
    "from pycbc.conversions import lambda_tilde, primary_mass, secondary_mass\n",
    "\n",
    "labels = ['lambda1', 'lambda2', 'lambda_tilde', 'mass1', 'mass2', 'radius_1p4']\n",
    "samples_post_rec2nsat_injimrrecimr = {l: [] for l in labels}\n",
    "\n",
    "fp=loadfile('/home/soumi.de/projects/cbc/GW170817_injection_study/pe_runs/gw170817_opt_ra_dec_design_2nsat830_gaussian_noise_fix_radecdl_injimrrecimr/rec_2nsat/inference_nindep.hdf')\n",
    "\n",
    "samples_post_rec2nsat_injimrrecimr['mass1'] = primary_mass(fp['samples']['mass1'][0:8000], fp['samples']['mass2'][0:8000])\n",
    "samples_post_rec2nsat_injimrrecimr['mass2'] = secondary_mass(fp['samples']['mass1'][0:8000], fp['samples']['mass2'][0:8000])\n",
    "samples_post_rec2nsat_injimrrecimr['lambda1'] = fp['samples']['lambda1'][0:8000]\n",
    "samples_post_rec2nsat_injimrrecimr['lambda2'] = fp['samples']['lambda2'][0:8000]\n",
    "samples_post_rec2nsat_injimrrecimr['radius_1p4'] = fp['samples']['radius_1p4'][0:8000]\n",
    "samples_post_rec2nsat_injimrrecimr['lambda_tilde'] = lambda_tilde(samples_post_rec2nsat_injimrrecimr['mass1'],samples_post_rec2nsat_injimrrecimr['mass2'],samples_post_rec2nsat_injimrrecimr['lambda1'],samples_post_rec2nsat_injimrrecimr['lambda2'])\n",
    "\n",
    "print(len(samples_post_rec2nsat_injimrrecimr['lambda_tilde']))"
   ]
  },
  {
   "cell_type": "code",
   "execution_count": 15,
   "metadata": {},
   "outputs": [
    {
     "data": {
      "image/png": "[encoded data removed]",
      "text/plain": [
       "<Figure size 576x432 with 1 Axes>"
      ]
     },
     "metadata": {
      "needs_background": "light"
     },
     "output_type": "display_data"
    }
   ],
   "source": [
    "fig, ax = plt.subplots(1, 1, figsize=(8, 6))\n",
    "ax_labels = [r'$\\tilde \\Lambda$']\n",
    "\n",
    "num_bins = 40\n",
    "ax.hist(samples_post_rec2nsat_injimrrectf2['lambda_tilde'], bins=40, histtype='step',\n",
    "        facecolor='None', edgecolor='black', ls='solid', lw=2,\n",
    "            density=True, label=r\"injected w/ imr recovered w/ tf2\")\n",
    "ax.hist(samples_post_rec2nsat_injimrrecimr['lambda_tilde'], bins=num_bins, histtype='step',\n",
    "        facecolor='None', edgecolor='blue', ls='solid', lw=2,\n",
    "        density=True, label=r\"injected w/ recovered w/ imr\")\n",
    "\n",
    "\n",
    "plt.tick_params(axis='both', which='major', labelsize=16)\n",
    "plt.xlabel(r\"$\\tilde \\Lambda$\", fontsize=18)\n",
    "plt.ylabel(r\"Probability Density\", fontsize=18)\n",
    "plt.legend(fontsize=15)\n",
    "#plt.title('SNR 100', fontsize=18, pad=18)\n",
    "plt.tight_layout()"
   ]
  },
  {
   "cell_type": "code",
   "execution_count": 16,
   "metadata": {},
   "outputs": [
    {
     "data": {
      "image/png": "[encoded data removed]",
      "text/plain": [
       "<Figure size 576x432 with 1 Axes>"
      ]
     },
     "metadata": {
      "needs_background": "light"
     },
     "output_type": "display_data"
    }
   ],
   "source": [
    "fig, ax = plt.subplots(1, 1, figsize=(8, 6))\n",
    "ax_labels = [r'$R_{1.4}$']\n",
    "\n",
    "num_bins = 40\n",
    "ax.hist(samples_post_rec2nsat_injimrrectf2['radius_1p4'], bins=40, histtype='step',\n",
    "        facecolor='None', edgecolor='black', ls='solid', lw=2,\n",
    "            density=True, label=r\"injected w/ imr recovered w/ tf2\")\n",
    "ax.hist(samples_post_rec2nsat_injimrrecimr['radius_1p4'], bins=num_bins, histtype='step',\n",
    "        facecolor='None', edgecolor='blue', ls='solid', lw=2,\n",
    "        density=True, label=r\"injected w/ imr recovered w/ imr\")\n",
    "\n",
    "\n",
    "plt.tick_params(axis='both', which='major', labelsize=16)\n",
    "plt.xlabel(r\"$R_{1.4}$\", fontsize=18)\n",
    "plt.ylabel(r\"Probability Density\", fontsize=18)\n",
    "plt.legend(fontsize=15)\n",
    "#plt.title('SNR 100', fontsize=18, pad=18)\n",
    "plt.tight_layout()"
   ]
  },
  {
   "cell_type": "code",
   "execution_count": null,
   "metadata": {},
   "outputs": [],
   "source": []
  }
 ],
 "metadata": {
  "kernelspec": {
   "display_name": "Python 3",
   "language": "python",
   "name": "python3"
  },
  "language_info": {
   "codemirror_mode": {
    "name": "ipython",
    "version": 3
   },
   "file_extension": ".py",
   "mimetype": "text/x-python",
   "name": "python",
   "nbconvert_exporter": "python",
   "pygments_lexer": "ipython3",
   "version": "3.8.5"
  }
 },
 "nbformat": 4,
 "nbformat_minor": 2
}
