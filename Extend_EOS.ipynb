{
 "cells": [
  {
   "cell_type": "code",
   "execution_count": 87,
   "metadata": {},
   "outputs": [],
   "source": [
    "import matplotlib.pyplot as plt\n",
    "import pandas as pd\n",
    "import scipy.integrate\n",
    "import scipy.interpolate\n",
    "import numpy as np\n",
    "import scipy.stats as sts\n",
    "\n",
    "n0 = 0.16 #MeV/fm^3\n",
    "pi = np.pi\n",
    "MeV_to_km = 1.323e-6"
   ]
  },
  {
   "cell_type": "code",
   "execution_count": 88,
   "metadata": {},
   "outputs": [],
   "source": [
    "EOS_small = pd.read_table('../data/EOSCEFTVE1.dat', header=None).to_numpy()"
   ]
  },
  {
   "cell_type": "markdown",
   "metadata": {},
   "source": [
    "We are going to extend this table through the speed of sound. We are using the speed of sound because of it's definition:\n",
    "\n",
    "$$ c_s^2 = \\frac{\\partial p(\\epsilon)}{\\partial \\epsilon} $$\n",
    "\n",
    "The mechanics will work like Ingo et. al. where we step the baryon density, $n$, by a small $\\Delta n$,\n",
    "\n",
    "$$ n_{i+1} = n_i + \\Delta n $$\n",
    "\n",
    "where $i$ is the index of our data array. Then we use the speed of sound, $c_s$, and a thermodynamic identity to get the energy density and pressure.\n",
    "\n",
    "$$\n",
    "\\begin{align}\n",
    "    \\epsilon_{i+1} &= \\epsilon_i + \\Delta n \\left( \\frac{\\epsilon_i + p_i}{n_i} \\right)\\\\\n",
    "    p_{i+1} &= p_i + c_s^2(n_i) \\Delta n \\left( \\frac{\\epsilon_i + p_i}{n_i} \\right)\n",
    "\\end{align}\n",
    "$$\n",
    "    \n",
    "We will be defining our speed of sound curve in this notebook by specifying its value at a number of points and just connecting the two with linear segments. The speed of sound (in units where c=1) must be between 0 and 1 to keep causality.\n",
    "\n",
    "To begin, let's get the speed of sound in the range we already have (n < 2n0)."
   ]
  },
  {
   "cell_type": "code",
   "execution_count": 94,
   "metadata": {},
   "outputs": [
    {
     "name": "stdout",
     "output_type": "stream",
     "text": [
      "[4.00000001e-15 4.73000011e-15 4.75999990e-15 ... 3.19600000e-01\n",
      " 3.19800000e-01 3.20000000e-01]\n"
     ]
    }
   ],
   "source": [
    "n = EOS_small[:,0] \n",
    "p = EOS_small[:,1] \n",
    "e = EOS_small[:,2] \n",
    "\n",
    "# derivative of pressure wrt energy\n",
    "dp_de = scipy.interpolate.CubicSpline(p, e).derivative(nu=1)\n",
    "\n",
    "#definition of speed of sound\n",
    "c_s_2n0 = np.sqrt(1/dp_de(p[-1]))\n",
    "print(n)"
   ]
  },
  {
   "cell_type": "code",
   "execution_count": 90,
   "metadata": {},
   "outputs": [],
   "source": [
    "def sample_cs(num_points, max_n, n_start, cs_start):\n",
    "    \n",
    "    n = np.linspace(n_start, max_n, num_points+1, endpoint=True)\n",
    "    c = cs_start*np.ones(1)\n",
    "    sample_cs = sts.uniform.rvs(size=num_points)\n",
    "    cs = np.append(c, sample_cs)\n",
    "    \n",
    "    return n, cs"
   ]
  },
  {
   "cell_type": "code",
   "execution_count": 95,
   "metadata": {},
   "outputs": [
    {
     "name": "stdout",
     "output_type": "stream",
     "text": [
      "[1.33522901e-01 3.80555777e-01 7.60007533e-05 3.57027519e-01\n",
      " 1.59462757e-02]\n"
     ]
    },
    {
     "data": {
      "text/plain": [
       "[<matplotlib.lines.Line2D at 0x2a6e0fd4bc8>]"
      ]
     },
     "execution_count": 95,
     "metadata": {},
     "output_type": "execute_result"
    },
    {
     "data": {
      "image/png": "[encoded data removed]",
      "text/plain": [
       "<Figure size 432x288 with 1 Axes>"
      ]
     },
     "metadata": {
      "needs_background": "light"
     },
     "output_type": "display_data"
    }
   ],
   "source": [
    "num_points = 4\n",
    "n_start = n[-1]\n",
    "max_n = 10*n0\n",
    "\n",
    "ns, cs = sample_cs(num_points, max_n, n_start, c_s_2n0)\n",
    "\n",
    "cs_func = scipy.interpolate.interp1d(ns, cs)\n",
    "\n",
    "print(cs**2)\n",
    "\n",
    "plt.plot(ns, cs_func(ns)**2)"
   ]
  },
  {
   "cell_type": "code",
   "execution_count": 96,
   "metadata": {},
   "outputs": [],
   "source": [
    "n_step = 1e-3\n",
    "\n",
    "size = int((max_n-n_start)/n_step)\n",
    "\n",
    "# initialize array\n",
    "EOS_ex = np.zeros((size, 3))\n",
    "# set starting values at n = 2n0\n",
    "EOS_ex[0,0] = n_start\n",
    "EOS_ex[0,1] = p[-1]\n",
    "EOS_ex[0,2] = e[-1]\n",
    "\n",
    "cs_func = scipy.interpolate.interp1d(ns, cs)\n",
    "    \n",
    "for k in range(size-1):\n",
    "    # n_i+1\n",
    "    EOS_ex[k+1,0] = EOS_ex[k,0] + n_step\n",
    "    # p_i+1\n",
    "    EOS_ex[k+1,1] = EOS_ex[k,1] + n_step*(cs_func(EOS_ex[k,0])**2)*((EOS_ex[k,1]+EOS_ex[k,2])/EOS_ex[k,0])\n",
    "    # e_i+1\n",
    "    EOS_ex[k+1,2] = EOS_ex[k,2] + n_step*((EOS_ex[k,1]+EOS_ex[k,2])/EOS_ex[k,0])"
   ]
  },
  {
   "cell_type": "code",
   "execution_count": 97,
   "metadata": {},
   "outputs": [
    {
     "data": {
      "text/plain": [
       "[<matplotlib.lines.Line2D at 0x2a6e1038508>]"
      ]
     },
     "execution_count": 97,
     "metadata": {},
     "output_type": "execute_result"
    },
    {
     "data": {
      "image/png": "[encoded data removed]",
      "text/plain": [
       "<Figure size 432x288 with 1 Axes>"
      ]
     },
     "metadata": {
      "needs_background": "light"
     },
     "output_type": "display_data"
    }
   ],
   "source": [
    "np.savetxt('../data/EOS_ex.dat', EOS_ex)\n",
    "\n",
    "plt.plot(EOS_ex[:,0], EOS_ex[:,2], 'o')"
   ]
  },
  {
   "cell_type": "code",
   "execution_count": null,
   "metadata": {},
   "outputs": [],
   "source": [
    "def stitch_EOS(small_EOS, EOS_ex):\n",
    "    \n",
    "    # get relevant sizes\n",
    "    size_smol = small_EOS.shape[0] -1 # -1 becuase we don't want last duplicated entry\n",
    "    size_ex = EOS_ex.shape[0]\n",
    "    \n",
    "    # initialize array\n",
    "    tot_EOS = np.zeros((size_smol+size_ex, small_EOS.shape[1]))\n",
    "    \n",
    "    tot_EOS[:size_smol,:] = small_EOS[:size_smol,:]\n",
    "    tot_EOS[size_smol:,0] = EOS_ex[:,0]\n",
    "    tot_EOS[size_smol:,1] = EOS_ex[:,1]\n",
    "    tot_EOS[size_smol:,2] = EOS_ex[:,2]\n",
    "    \n",
    "    return tot_EOS"
   ]
  },
  {
   "cell_type": "code",
   "execution_count": null,
   "metadata": {},
   "outputs": [],
   "source": [
    "tot_EOS = stitch_EOS(EOS_small, EOS_ex)\n",
    "\n",
    "np.savetxt('../data/EOS_test.dat', tot_EOS)"
   ]
  },
  {
   "cell_type": "code",
   "execution_count": null,
   "metadata": {},
   "outputs": [],
   "source": [
    "plt.plot(tot_EOS[:,0], tot_EOS[:,1], 'o')"
   ]
  },
  {
   "cell_type": "code",
   "execution_count": null,
   "metadata": {},
   "outputs": [],
   "source": [
    "import real_TOVsolver\n",
    "\n",
    "max_pressure = 350 #MeV/fm3\n",
    "MRL_test = real_TOVsolver.solve(tot_EOS, max_pressure)\n",
    "np.savetxt('../data/MRL_test.dat', MRL_test)"
   ]
  },
  {
   "cell_type": "code",
   "execution_count": null,
   "metadata": {},
   "outputs": [],
   "source": [
    "fig, ax = plt.subplots(1,2, figsize=(16,8))\n",
    "\n",
    "ax[0].plot(MRL_test[:,0], MRL_test[:,1])\n",
    "ax[0].set_xlabel('Mass (Mo)')\n",
    "ax[0].set_ylabel('Radius (km)')\n",
    "ax[0].set_title('Mass Radius Curve for Uniformly Sampled $c_s$')\n",
    "\n",
    "ax[1].plot(MRL_test[:,0], MRL_test[:,2])\n",
    "ax[1].set_xlabel('Mass (Mo)')\n",
    "ax[1].set_ylabel('$\\Lambda$')\n",
    "ax[1].set_yscale('log')\n",
    "ax[1].set_title('Tidal Polarizability as a Function of Mass')"
   ]
  },
  {
   "cell_type": "code",
   "execution_count": null,
   "metadata": {},
   "outputs": [],
   "source": [
    "MRL_small = real_TOVsolver.solve(EOS_small, max_pressure)"
   ]
  },
  {
   "cell_type": "code",
   "execution_count": null,
   "metadata": {},
   "outputs": [],
   "source": [
    "fig, ax = plt.subplots(1,2, figsize=(16,8))\n",
    "\n",
    "ax[0].plot(MRL_small[:,0], MRL_small[:,1])\n",
    "ax[0].set_xlabel('Mass (Mo)')\n",
    "ax[0].set_ylabel('Radius (km)')\n",
    "ax[0].set_title('Mass Radius Curve for EOS_small')\n",
    "\n",
    "ax[1].plot(MRL_small[:,0], MRL_small[:,2])\n",
    "ax[1].set_xlabel('Mass (Mo)')\n",
    "ax[1].set_ylabel('$\\Lambda$')\n",
    "ax[1].set_yscale('log')\n",
    "ax[1].set_title('Tidal Polarizability as a Function of Mass')"
   ]
  },
  {
   "cell_type": "code",
   "execution_count": null,
   "metadata": {},
   "outputs": [],
   "source": []
  }
 ],
 "metadata": {
  "kernelspec": {
   "display_name": "Python 3",
   "language": "python",
   "name": "python3"
  },
  "language_info": {
   "codemirror_mode": {
    "name": "ipython",
    "version": 3
   },
   "file_extension": ".py",
   "mimetype": "text/x-python",
   "name": "python",
   "nbconvert_exporter": "python",
   "pygments_lexer": "ipython3",
   "version": "3.7.4"
  }
 },
 "nbformat": 4,
 "nbformat_minor": 4
}
