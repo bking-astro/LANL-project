{
 "cells": [
  {
   "cell_type": "code",
   "execution_count": 8,
   "metadata": {},
   "outputs": [],
   "source": [
    "import matplotlib.pyplot as plt\n",
    "import pandas as pd\n",
    "import scipy.integrate\n",
    "import scipy.interpolate\n",
    "import numpy as np\n",
    "\n",
    "n0 = 0.16e-15\n",
    "pi = np.pi\n",
    "MeV_to_km = 1.323e-6"
   ]
  },
  {
   "cell_type": "code",
   "execution_count": 2,
   "metadata": {},
   "outputs": [],
   "source": [
    "EOS_small = pd.read_table('../data/EOSCEFTVE1.dat', header=None)"
   ]
  },
  {
   "cell_type": "markdown",
   "metadata": {},
   "source": [
    "We are going to extend this table through the speed of sound. We are using the speed of sound because of it's definition:\n",
    "\n",
    "$$ c_s^2 = \\frac{\\partial p(\\epsilon)}{\\partial \\epsilon} $$\n",
    "\n",
    "The mechanics will work like Ingo et. al. where we step the baryon density, $n$, by a small $\\Delta n$,\n",
    "\n",
    "$$ n_{i+1} = n_i + \\Delta n $$\n",
    "\n",
    "where $i$ is the index of our data array. Then we use the speed of sound, $c_s$, and a thermodynamic identity to get the energy density and pressure.\n",
    "\n",
    "$$\n",
    "\\begin{align}\n",
    "    \\epsilon_{i+1} &= \\epsilon_i + \\Delta n \\left( \\frac{\\epsilon_i + p_i}{n_i} \\right)\\\\\n",
    "    p_{i+1} &= p_i + c_s^2(n_i) \\Delta n \\left( \\frac{\\epsilon_i + p_i}{n_i} \\right)\n",
    "\\end{align}\n",
    "$$\n",
    "    \n",
    "We will be defining our speed of sound curve in this notebook by specifying its value at a number of points and just connecting the two with linear segments. The speed of sound (in units where c=1) must be between 0 and 1 to keep causality.\n",
    "\n",
    "To begin, let's get the speed of sound in the range we already have (n < 2n0)."
   ]
  },
  {
   "cell_type": "code",
   "execution_count": 17,
   "metadata": {},
   "outputs": [
    {
     "name": "stdout",
     "output_type": "stream",
     "text": [
      "0.3654078562510514\n"
     ]
    }
   ],
   "source": [
    "n = MeV_to_km*EOS_small[0].to_numpy()\n",
    "e = MeV_to_km*EOS_small[1].to_numpy()\n",
    "p = MeV_to_km*EOS_small[2].to_numpy()\n",
    "\n",
    "dp_de = scipy.interpolate.CubicSpline(e, p).derivative(nu=1)\n",
    "\n",
    "c_s_2n0 = np.sqrt(1/dp_de(e[-1]))\n",
    "print(c_s_2n0)"
   ]
  },
  {
   "cell_type": "code",
   "execution_count": null,
   "metadata": {},
   "outputs": [],
   "source": []
  }
 ],
 "metadata": {
  "kernelspec": {
   "display_name": "Python 3",
   "language": "python",
   "name": "python3"
  },
  "language_info": {
   "codemirror_mode": {
    "name": "ipython",
    "version": 3
   },
   "file_extension": ".py",
   "mimetype": "text/x-python",
   "name": "python",
   "nbconvert_exporter": "python",
   "pygments_lexer": "ipython3",
   "version": "3.7.4"
  }
 },
 "nbformat": 4,
 "nbformat_minor": 4
}
