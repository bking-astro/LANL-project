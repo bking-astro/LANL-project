{
 "cells": [
  {
   "cell_type": "code",
   "execution_count": 37,
   "metadata": {},
   "outputs": [],
   "source": [
    "import numpy as np\n",
    "import matplotlib.pyplot as plt\n",
    "import os\n",
    "import scipy.interpolate\n",
    "import random"
   ]
  },
  {
   "cell_type": "code",
   "execution_count": 2,
   "metadata": {},
   "outputs": [],
   "source": [
    "def get_r1p4(MRL_table):\n",
    "    max_index = np.argmax(MRL_table[:,0])\n",
    "    clipped_MRL = MRL_table[:max_index-1,:]\n",
    "        \n",
    "    diffMRL = np.ediff1d(clipped_MRL[:,0])\n",
    "    drop_in_m = np.argmax(diffMRL < 0) # index of first drop in mass\n",
    "    above_m = np.argmax(clipped_MRL[:,0]>clipped_MRL[drop_in_m,0])\n",
    "    \n",
    "    keep = np.zeros(clipped_MRL[:,0].shape[0], dtype=bool)\n",
    "    for i in range(clipped_MRL[:,0].shape[0]):\n",
    "        keep[i] = i < drop_in_m or i > above_m\n",
    "        \n",
    "    fixed_MRL = clipped_MRL[keep,:]\n",
    "    r_func = scipy.interpolate.CubicSpline(fixed_MRL[:,0], fixed_MRL[:,1])\n",
    "    r1p4 = r_func(1.4)\n",
    "    \n",
    "    return r1p4"
   ]
  },
  {
   "cell_type": "code",
   "execution_count": 3,
   "metadata": {},
   "outputs": [],
   "source": [
    "ext_type = 'cs'\n",
    "nsamp = 5\n",
    "\n",
    "EOSdir_name = ext_type+str(nsamp)+'EOS'\n",
    "MRLdir_name = ext_type+str(nsamp)+'MRL'\n",
    "datapath = os.getcwd() + \"/data/\"\n",
    "\n",
    "numlist = []\n",
    "num_eos, num_mrl = 0, 0\n",
    "for file in os.listdir(datapath+EOSdir_name):\n",
    "        if '.dat' in file:\n",
    "            numlist.append(int(file[:-4]))\n",
    "            num_eos += 1\n",
    "            \n",
    "for file in os.listdir(datapath+MRLdir_name):\n",
    "        if '.dat' in file:\n",
    "            numlist.append(int(file[:-4]))\n",
    "            num_mrl += 1"
   ]
  },
  {
   "cell_type": "code",
   "execution_count": 23,
   "metadata": {},
   "outputs": [],
   "source": [
    "r1p4 = np.zeros((num_eos,2))\n",
    "\n",
    "for i in range(num_eos):\n",
    "    file = datapath+MRLdir_name+'/'+str(i)+'.dat'\n",
    "    MRL = np.loadtxt(file)\n",
    "\n",
    "    r1p4[i,0] = get_r1p4(MRL)\n",
    "    r1p4[i,1] = i\n",
    "    \n",
    "sorted_index = np.argsort(r1p4[:,0])\n",
    "r1p4_sort = r1p4[sorted_index,:]"
   ]
  },
  {
   "cell_type": "code",
   "execution_count": 143,
   "metadata": {},
   "outputs": [
    {
     "name": "stdout",
     "output_type": "stream",
     "text": [
      "0.06529619847244267\n"
     ]
    }
   ],
   "source": [
    "n_EOS = 3250\n",
    "n_bins = 50\n",
    "n_per_bin = int(n_EOS/n_bins)\n",
    "\n",
    "r_min = r1p4_sort[0,0]\n",
    "r_max = r1p4_sort[-1,0]\n",
    "delr = (r_max-r_min)/n_bins\n",
    "print(delr)\n",
    "\n",
    "bins = np.arange(r_min, r_max, delr)"
   ]
  },
  {
   "cell_type": "code",
   "execution_count": 144,
   "metadata": {},
   "outputs": [],
   "source": [
    "uniform_r1p4 = np.empty((0,2))\n",
    "\n",
    "for i in range(n_bins):\n",
    "    # make R range for bin\n",
    "    lbound = r_min + i*delr\n",
    "    ubound = r_min + (i+1)*delr\n",
    "    # bool array to get sample set\n",
    "    in_range = np.logical_and(r1p4_sort[:,0] >= lbound,r1p4_sort[:,0] <= ubound)\n",
    "    sample_set = r1p4_sort[in_range,:]\n",
    "    \n",
    "    if sample_set.shape[0] > n_per_bin:\n",
    "        size = int(sample_set.shape[0])\n",
    "        zero2size = np.arange(0,size,1)\n",
    "        rints = np.random.choice(zero2size, size=n_per_bin, replace=False)\n",
    "        in_sample = np.zeros(size, dtype=bool)\n",
    "        for j in range(size):\n",
    "            in_sample[j] = zero2size[j] in rints\n",
    "        sample = sample_set[in_sample,:]\n",
    "        \n",
    "        uniform_r1p4 = np.append(uniform_r1p4, sample, axis=0)\n",
    "        \n",
    "    else:\n",
    "        uniform_r1p4 = np.append(uniform_r1p4, sample_set, axis=0)"
   ]
  },
  {
   "cell_type": "code",
   "execution_count": 145,
   "metadata": {},
   "outputs": [
    {
     "data": {
      "text/plain": [
       "Text(0.5, 1.0, 'Uniform Distribution')"
      ]
     },
     "execution_count": 145,
     "metadata": {},
     "output_type": "execute_result"
    },
    {
     "data": {
      "image/png": "[encoded data removed]",
      "text/plain": [
       "<Figure size 1152x432 with 2 Axes>"
      ]
     },
     "metadata": {
      "needs_background": "light"
     },
     "output_type": "display_data"
    }
   ],
   "source": [
    "fig, ax = plt.subplots(1,2, figsize=(16,6))\n",
    "\n",
    "ax[0].hist(r1p4[:,0], bins=bins)\n",
    "ax[0].set_xlabel('$R_{1.4} (km)')\n",
    "ax[0].set_title(\"Natural Distribution\")\n",
    "\n",
    "plt.hist(uniform_r1p4[:,0], bins=bins)\n",
    "plt.hlines(n_per_bin, xmin=9, xmax=r_max, color='r')\n",
    "ax[1].set_xlabel('$R_{1.4} (km)')\n",
    "ax[1].set_title(\"Uniform Distribution\")"
   ]
  },
  {
   "cell_type": "code",
   "execution_count": 146,
   "metadata": {},
   "outputs": [
    {
     "data": {
      "text/plain": [
       "(2000, 2)"
      ]
     },
     "execution_count": 146,
     "metadata": {},
     "output_type": "execute_result"
    }
   ],
   "source": [
    "uniform_r1p4.shape"
   ]
  },
  {
   "cell_type": "code",
   "execution_count": null,
   "metadata": {},
   "outputs": [],
   "source": []
  }
 ],
 "metadata": {
  "kernelspec": {
   "display_name": "Python 3",
   "language": "python",
   "name": "python3"
  },
  "language_info": {
   "codemirror_mode": {
    "name": "ipython",
    "version": 3
   },
   "file_extension": ".py",
   "mimetype": "text/x-python",
   "name": "python",
   "nbconvert_exporter": "python",
   "pygments_lexer": "ipython3",
   "version": "3.8.5"
  }
 },
 "nbformat": 4,
 "nbformat_minor": 4
}
