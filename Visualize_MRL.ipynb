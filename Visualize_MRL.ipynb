{
 "cells": [
  {
   "cell_type": "code",
   "execution_count": 1,
   "metadata": {},
   "outputs": [],
   "source": [
    "import numpy as np\n",
    "import matplotlib.pyplot as plt\n",
    "import os\n",
    "import scipy.interpolate"
   ]
  },
  {
   "cell_type": "code",
   "execution_count": 2,
   "metadata": {},
   "outputs": [],
   "source": [
    "ext_type = 'poly'\n",
    "nsamp = 3\n",
    "\n",
    "EOSdir_name = ext_type+str(nsamp)+'EOS'\n",
    "MRLdir_name = ext_type+str(nsamp)+'MRL'\n",
    "datapath = os.getcwd() + \"/data/\"\n",
    "\n",
    "numlist = []\n",
    "num_eos, num_mrl = 0, 0\n",
    "for file in os.listdir(datapath+EOSdir_name):\n",
    "        if '.dat' in file:\n",
    "            numlist.append(int(file[:-4]))\n",
    "            num_eos += 1\n",
    "            \n",
    "for file in os.listdir(datapath+MRLdir_name):\n",
    "        if '.dat' in file:\n",
    "            numlist.append(int(file[:-4]))\n",
    "            num_mrl += 1\n"
   ]
  },
  {
   "cell_type": "code",
   "execution_count": 3,
   "metadata": {},
   "outputs": [
    {
     "name": "stdout",
     "output_type": "stream",
     "text": [
      "8788\n"
     ]
    }
   ],
   "source": [
    "print(10000-num_eos)"
   ]
  },
  {
   "cell_type": "code",
   "execution_count": 4,
   "metadata": {},
   "outputs": [],
   "source": [
    "maximum_mass = np.zeros(num_eos)\n",
    "mass_max = np.zeros(num_eos)"
   ]
  },
  {
   "cell_type": "code",
   "execution_count": 5,
   "metadata": {},
   "outputs": [
    {
     "ename": "OSError",
     "evalue": "C:\\Users\\brend\\OneDrive\\LANL_Project\\LANL_project/data/poly3MRL/0.dat not found.",
     "output_type": "error",
     "traceback": [
      "\u001b[1;31m---------------------------------------------------------------------------\u001b[0m",
      "\u001b[1;31mOSError\u001b[0m                                   Traceback (most recent call last)",
      "\u001b[1;32m~\\AppData\\Local\\Temp/ipykernel_8124/1068385480.py\u001b[0m in \u001b[0;36m<module>\u001b[1;34m\u001b[0m\n\u001b[0;32m      1\u001b[0m \u001b[1;32mfor\u001b[0m \u001b[0mi\u001b[0m \u001b[1;32min\u001b[0m \u001b[0mrange\u001b[0m\u001b[1;33m(\u001b[0m\u001b[0mnum_eos\u001b[0m\u001b[1;33m)\u001b[0m\u001b[1;33m:\u001b[0m\u001b[1;33m\u001b[0m\u001b[1;33m\u001b[0m\u001b[0m\n\u001b[0;32m      2\u001b[0m     \u001b[0mfile\u001b[0m \u001b[1;33m=\u001b[0m \u001b[0mdatapath\u001b[0m\u001b[1;33m+\u001b[0m\u001b[0mMRLdir_name\u001b[0m\u001b[1;33m+\u001b[0m\u001b[1;34m'/'\u001b[0m\u001b[1;33m+\u001b[0m\u001b[0mstr\u001b[0m\u001b[1;33m(\u001b[0m\u001b[0mi\u001b[0m\u001b[1;33m)\u001b[0m\u001b[1;33m+\u001b[0m\u001b[1;34m'.dat'\u001b[0m\u001b[1;33m\u001b[0m\u001b[1;33m\u001b[0m\u001b[0m\n\u001b[1;32m----> 3\u001b[1;33m     \u001b[0mMRL\u001b[0m \u001b[1;33m=\u001b[0m \u001b[0mnp\u001b[0m\u001b[1;33m.\u001b[0m\u001b[0mloadtxt\u001b[0m\u001b[1;33m(\u001b[0m\u001b[0mfile\u001b[0m\u001b[1;33m)\u001b[0m\u001b[1;33m\u001b[0m\u001b[1;33m\u001b[0m\u001b[0m\n\u001b[0m\u001b[0;32m      4\u001b[0m     \u001b[0mMass\u001b[0m \u001b[1;33m=\u001b[0m \u001b[0mMRL\u001b[0m\u001b[1;33m[\u001b[0m\u001b[1;33m:\u001b[0m\u001b[1;33m,\u001b[0m\u001b[1;36m0\u001b[0m\u001b[1;33m]\u001b[0m\u001b[1;33m\u001b[0m\u001b[1;33m\u001b[0m\u001b[0m\n\u001b[0;32m      5\u001b[0m     \u001b[0mRadius\u001b[0m \u001b[1;33m=\u001b[0m \u001b[0mMRL\u001b[0m\u001b[1;33m[\u001b[0m\u001b[1;33m:\u001b[0m\u001b[1;33m,\u001b[0m\u001b[1;36m1\u001b[0m\u001b[1;33m]\u001b[0m\u001b[1;33m\u001b[0m\u001b[1;33m\u001b[0m\u001b[0m\n",
      "\u001b[1;32m~\\Anaconda3\\lib\\site-packages\\numpy\\lib\\npyio.py\u001b[0m in \u001b[0;36mloadtxt\u001b[1;34m(fname, dtype, comments, delimiter, converters, skiprows, usecols, unpack, ndmin, encoding, max_rows, like)\u001b[0m\n\u001b[0;32m   1063\u001b[0m             \u001b[0mfname\u001b[0m \u001b[1;33m=\u001b[0m \u001b[0mos_fspath\u001b[0m\u001b[1;33m(\u001b[0m\u001b[0mfname\u001b[0m\u001b[1;33m)\u001b[0m\u001b[1;33m\u001b[0m\u001b[1;33m\u001b[0m\u001b[0m\n\u001b[0;32m   1064\u001b[0m         \u001b[1;32mif\u001b[0m \u001b[0m_is_string_like\u001b[0m\u001b[1;33m(\u001b[0m\u001b[0mfname\u001b[0m\u001b[1;33m)\u001b[0m\u001b[1;33m:\u001b[0m\u001b[1;33m\u001b[0m\u001b[1;33m\u001b[0m\u001b[0m\n\u001b[1;32m-> 1065\u001b[1;33m             \u001b[0mfh\u001b[0m \u001b[1;33m=\u001b[0m \u001b[0mnp\u001b[0m\u001b[1;33m.\u001b[0m\u001b[0mlib\u001b[0m\u001b[1;33m.\u001b[0m\u001b[0m_datasource\u001b[0m\u001b[1;33m.\u001b[0m\u001b[0mopen\u001b[0m\u001b[1;33m(\u001b[0m\u001b[0mfname\u001b[0m\u001b[1;33m,\u001b[0m \u001b[1;34m'rt'\u001b[0m\u001b[1;33m,\u001b[0m \u001b[0mencoding\u001b[0m\u001b[1;33m=\u001b[0m\u001b[0mencoding\u001b[0m\u001b[1;33m)\u001b[0m\u001b[1;33m\u001b[0m\u001b[1;33m\u001b[0m\u001b[0m\n\u001b[0m\u001b[0;32m   1066\u001b[0m             \u001b[0mfencoding\u001b[0m \u001b[1;33m=\u001b[0m \u001b[0mgetattr\u001b[0m\u001b[1;33m(\u001b[0m\u001b[0mfh\u001b[0m\u001b[1;33m,\u001b[0m \u001b[1;34m'encoding'\u001b[0m\u001b[1;33m,\u001b[0m \u001b[1;34m'latin1'\u001b[0m\u001b[1;33m)\u001b[0m\u001b[1;33m\u001b[0m\u001b[1;33m\u001b[0m\u001b[0m\n\u001b[0;32m   1067\u001b[0m             \u001b[0mfh\u001b[0m \u001b[1;33m=\u001b[0m \u001b[0miter\u001b[0m\u001b[1;33m(\u001b[0m\u001b[0mfh\u001b[0m\u001b[1;33m)\u001b[0m\u001b[1;33m\u001b[0m\u001b[1;33m\u001b[0m\u001b[0m\n",
      "\u001b[1;32m~\\Anaconda3\\lib\\site-packages\\numpy\\lib\\_datasource.py\u001b[0m in \u001b[0;36mopen\u001b[1;34m(path, mode, destpath, encoding, newline)\u001b[0m\n\u001b[0;32m    192\u001b[0m \u001b[1;33m\u001b[0m\u001b[0m\n\u001b[0;32m    193\u001b[0m     \u001b[0mds\u001b[0m \u001b[1;33m=\u001b[0m \u001b[0mDataSource\u001b[0m\u001b[1;33m(\u001b[0m\u001b[0mdestpath\u001b[0m\u001b[1;33m)\u001b[0m\u001b[1;33m\u001b[0m\u001b[1;33m\u001b[0m\u001b[0m\n\u001b[1;32m--> 194\u001b[1;33m     \u001b[1;32mreturn\u001b[0m \u001b[0mds\u001b[0m\u001b[1;33m.\u001b[0m\u001b[0mopen\u001b[0m\u001b[1;33m(\u001b[0m\u001b[0mpath\u001b[0m\u001b[1;33m,\u001b[0m \u001b[0mmode\u001b[0m\u001b[1;33m,\u001b[0m \u001b[0mencoding\u001b[0m\u001b[1;33m=\u001b[0m\u001b[0mencoding\u001b[0m\u001b[1;33m,\u001b[0m \u001b[0mnewline\u001b[0m\u001b[1;33m=\u001b[0m\u001b[0mnewline\u001b[0m\u001b[1;33m)\u001b[0m\u001b[1;33m\u001b[0m\u001b[1;33m\u001b[0m\u001b[0m\n\u001b[0m\u001b[0;32m    195\u001b[0m \u001b[1;33m\u001b[0m\u001b[0m\n\u001b[0;32m    196\u001b[0m \u001b[1;33m\u001b[0m\u001b[0m\n",
      "\u001b[1;32m~\\Anaconda3\\lib\\site-packages\\numpy\\lib\\_datasource.py\u001b[0m in \u001b[0;36mopen\u001b[1;34m(self, path, mode, encoding, newline)\u001b[0m\n\u001b[0;32m    529\u001b[0m                                       encoding=encoding, newline=newline)\n\u001b[0;32m    530\u001b[0m         \u001b[1;32melse\u001b[0m\u001b[1;33m:\u001b[0m\u001b[1;33m\u001b[0m\u001b[1;33m\u001b[0m\u001b[0m\n\u001b[1;32m--> 531\u001b[1;33m             \u001b[1;32mraise\u001b[0m \u001b[0mIOError\u001b[0m\u001b[1;33m(\u001b[0m\u001b[1;34m\"%s not found.\"\u001b[0m \u001b[1;33m%\u001b[0m \u001b[0mpath\u001b[0m\u001b[1;33m)\u001b[0m\u001b[1;33m\u001b[0m\u001b[1;33m\u001b[0m\u001b[0m\n\u001b[0m\u001b[0;32m    532\u001b[0m \u001b[1;33m\u001b[0m\u001b[0m\n\u001b[0;32m    533\u001b[0m \u001b[1;33m\u001b[0m\u001b[0m\n",
      "\u001b[1;31mOSError\u001b[0m: C:\\Users\\brend\\OneDrive\\LANL_Project\\LANL_project/data/poly3MRL/0.dat not found."
     ]
    }
   ],
   "source": [
    "for i in range(num_eos):\n",
    "    file = datapath+MRLdir_name+'/'+str(i)+'.dat'\n",
    "    MRL = np.loadtxt(file)\n",
    "    Mass = MRL[:,0]\n",
    "    Radius = MRL[:,1]\n",
    "    \n",
    "    maximum_mass[i] = np.max(Mass)\n",
    "    mass_max[i] = Mass[-1]"
   ]
  },
  {
   "cell_type": "code",
   "execution_count": null,
   "metadata": {},
   "outputs": [],
   "source": [
    "plt.hist(maximum_mass)"
   ]
  },
  {
   "cell_type": "code",
   "execution_count": null,
   "metadata": {},
   "outputs": [],
   "source": [
    "# plt.plot(np.arange(1000,number_eos-980,step=1), maximum_mass[1000:number_eos-980], 'o' )\n",
    "fig, ax = plt.subplots(1,2, figsize=(12,6))\n",
    "min_n = 700\n",
    "max_n = 820\n",
    "\n",
    "ax[0].plot(np.arange(0,num_eos,step=1), maximum_mass, 'o' )\n",
    "ax[0].hlines(1.8, xmin=0, xmax=10000, color='r')\n",
    "\n",
    "ax[1].plot(np.arange(min_n,max_n,step=1), maximum_mass[min_n:max_n], 'o' )\n",
    "ax[1].plot(np.arange(min_n,max_n,step=1), mass_max[min_n:max_n], 'o' )\n",
    "ax[1].hlines(1.8, xmin=min_n, xmax=max_n, color='r')"
   ]
  },
  {
   "cell_type": "code",
   "execution_count": null,
   "metadata": {},
   "outputs": [],
   "source": [
    "def plotMRL(ext_type, nsamp, index):\n",
    "    MRLdir_name = ext_type+str(nsamp)+'MRL'\n",
    "    datapath = os.getcwd() + \"/data/\"\n",
    "    \n",
    "    MRL = np.loadtxt(datapath+MRLdir_name+'/'+str(index)+'.dat')\n",
    "    Mass = MRL[:,0]\n",
    "    Radius = MRL[:,1]\n",
    "    Lambda = MRL[:,2]\n",
    "    \n",
    "    max_index = np.argmax(MRL[:-2,0])\n",
    "    \n",
    "    print(np.mean(Mass), np.max(Mass))\n",
    "    \n",
    "    fig, ax = plt.subplots(1,2, figsize=(16,8))\n",
    "    \n",
    "    ax[0].plot(Radius, Mass, 'o', label=str(index))\n",
    "    ax[0].set_xlabel('Radius (km)')\n",
    "    ax[0].set_ylabel('Mass (Mo)')\n",
    "    \n",
    "    ax[1].plot(Mass, Lambda, label=str(index))\n",
    "    ax[1].set_ylabel('$\\Lambda$ (unitless)')\n",
    "    ax[1].set_xlabel('Mass (Mo)')\n",
    "    \n",
    "    return MRL"
   ]
  },
  {
   "cell_type": "code",
   "execution_count": null,
   "metadata": {},
   "outputs": [],
   "source": [
    "MRL = plotMRL('poly', nsamp, 820)"
   ]
  },
  {
   "cell_type": "code",
   "execution_count": null,
   "metadata": {},
   "outputs": [],
   "source": [
    "diffMRL = np.ediff1d(MRL[:,0])\n",
    "drop_in_m = np.argmax(diffMRL < 0) # index of first drop in mass\n",
    "above_m = np.argmax(MRL[:,0]>MRL[drop_in_m,0])\n",
    "above_m"
   ]
  },
  {
   "cell_type": "code",
   "execution_count": null,
   "metadata": {},
   "outputs": [],
   "source": [
    "Mass = MRL[:,0]\n",
    "Radius = MRL[:,1]\n",
    "Lambda = MRL[:,2]\n",
    "\n",
    "keep = np.zeros(MRL[:,0].shape[0], dtype=bool)\n",
    "for i in range(MRL[:,0].shape[0]):\n",
    "    keep[i] = i < drop_in_m or i > above_m\n",
    "    \n",
    "Mass_keep = MRL[keep,0]\n",
    "Radius_keep = MRL[keep,1]\n",
    "Lambda_keep = MRL[keep,2]\n",
    "\n",
    "fig, ax = plt.subplots(1,2, figsize=(16,8))\n",
    "    \n",
    "ax[0].plot(Radius, Mass, 'o')\n",
    "ax[0].plot(Radius_keep, Mass_keep, 'o')\n",
    "ax[0].set_xlabel('Radius (km)')\n",
    "ax[0].set_ylabel('Mass (Mo)')\n",
    "\n",
    "ax[1].plot(Mass, Lambda)\n",
    "ax[1].plot(Mass_keep, Lambda_keep)\n",
    "ax[1].set_ylabel('$\\Lambda$ (unitless)')\n",
    "ax[1].set_xlabel('Mass (Mo)')"
   ]
  },
  {
   "cell_type": "code",
   "execution_count": null,
   "metadata": {},
   "outputs": [],
   "source": [
    "def plotEOS(ext_type, nsamp, index):\n",
    "    EOSdir_name = ext_type+str(nsamp)+'EOS'\n",
    "    datapath = os.getcwd() + \"/data/\"\n",
    "    \n",
    "    EOS = np.loadtxt(datapath+EOSdir_name+'/'+str(index)+'.dat')\n",
    "    n = EOS[:,0]\n",
    "    p = EOS[:,1]\n",
    "    e = EOS[:,2]\n",
    "    \n",
    "    with open(datapath+EOSdir_name + '/' + str(index)+'.dat', 'r') as f:\n",
    "        header = f.readline()\n",
    "    print(header)\n",
    "    \n",
    "    cs2 = np.zeros(p.shape[0]-1)\n",
    "    \n",
    "    for j in range(p.shape[0]-1):\n",
    "        cs2[j] = (p[j+1]-p[j])/(e[j+1]-e[j])\n",
    "    \n",
    "    fig, ax = plt.subplots(1,2, figsize=(16,8))\n",
    "    \n",
    "    ax[0].plot(e, p, 'o', label=str(index))\n",
    "    ax[0].set_xlabel('Energy Density (MeV/fm$^3$)')\n",
    "    ax[0].set_ylabel('Pressure (MeV/fm$^3$)')\n",
    "    \n",
    "    ax[1].plot(e[:p.shape[0]-1], cs2, label=str(index))\n",
    "    ax[1].hlines(1, xmin=e[0], xmax=e[-2], color='r')\n",
    "    ax[1].set_ylabel('Speed of Sound')\n",
    "    ax[1].set_xlabel('Energy Density (MeV/fm$^3$)')\n",
    "    \n",
    "# def plot_fixedEOS(ext_type, nsamp, index):\n",
    "#     EOSdir_name = ext_type+str(nsamp)+'fixedEOS'\n",
    "#     datapath = os.getcwd() + \"/data/\"\n",
    "    \n",
    "#     EOS = np.loadtxt(datapath+EOSdir_name+'/'+str(index)+'.dat')\n",
    "#     n = EOS[:,0]\n",
    "#     p = EOS[:,1]\n",
    "#     e = EOS[:,2]\n",
    "    \n",
    "#     with open(datapath+EOSdir_name + '/' + str(index)+'.dat', 'r') as f:\n",
    "#         header = f.readline()\n",
    "#     print(header)\n",
    "\n",
    "#     cs2 = np.zeros(p.shape[0]-1)\n",
    "    \n",
    "#     for j in range(p.shape[0]-1):\n",
    "#         cs2[j] = (p[j+1]-p[j])/(e[j+1]-e[j])\n",
    "    \n",
    "#     fig, ax = plt.subplots(1,2, figsize=(16,8))\n",
    "    \n",
    "#     ax[0].plot(e, p, 'o', label=\"fixed\"+str(index))\n",
    "#     ax[0].set_xlabel('Energy Density (MeV/fm$^3$)')\n",
    "#     ax[0].set_ylabel('Pressure (MeV/fm$^3$)')\n",
    "    \n",
    "#     ax[1].plot(e[:p.shape[0]-1], cs2, label=\"fixed\"+str(index))\n",
    "#     ax[1].hlines(1, xmin=e[0], xmax=e[-2], color='r')\n",
    "#     ax[1].set_ylabel('Speed of Sound')\n",
    "#     ax[1].set_xlabel('Energy Density (MeV/fm$^3$)')"
   ]
  },
  {
   "cell_type": "code",
   "execution_count": null,
   "metadata": {},
   "outputs": [],
   "source": [
    "print(MRL[72:87,1])"
   ]
  },
  {
   "cell_type": "code",
   "execution_count": null,
   "metadata": {},
   "outputs": [],
   "source": [
    "index = 4001\n",
    "plotEOS('cs', nsamp, index)"
   ]
  },
  {
   "cell_type": "code",
   "execution_count": null,
   "metadata": {},
   "outputs": [],
   "source": [
    "def get_r1p4(MRL_table):\n",
    "    max_index = np.argmax(MRL_table[:,0])\n",
    "    clipped_MRL = MRL_table[:max_index-1,:]\n",
    "        \n",
    "    diffMRL = np.ediff1d(clipped_MRL[:,0])\n",
    "    drop_in_m = np.argmax(diffMRL < 0) # index of first drop in mass\n",
    "    above_m = np.argmax(clipped_MRL[:,0]>clipped_MRL[drop_in_m,0])\n",
    "    \n",
    "    keep = np.zeros(clipped_MRL[:,0].shape[0], dtype=bool)\n",
    "    for i in range(clipped_MRL[:,0].shape[0]):\n",
    "        keep[i] = i < drop_in_m or i > above_m\n",
    "        \n",
    "    fixed_MRL = clipped_MRL[keep,:]\n",
    "    r_func = scipy.interpolate.CubicSpline(fixed_MRL[:,0], fixed_MRL[:,1])\n",
    "    r1p4 = r_func(1.4)\n",
    "    \n",
    "    return r1p4"
   ]
  },
  {
   "cell_type": "code",
   "execution_count": null,
   "metadata": {
    "scrolled": true
   },
   "outputs": [],
   "source": [
    "skip = 0\n",
    "r1p4 = np.zeros(num_eos-skip)\n",
    "\n",
    "for i in range(num_eos-skip):\n",
    "    file = datapath+MRLdir_name+'/'+str(i+skip)+'.dat'\n",
    "    MRL = np.loadtxt(file)\n",
    "\n",
    "    r1p4[i] = get_r1p4(MRL)"
   ]
  },
  {
   "cell_type": "code",
   "execution_count": null,
   "metadata": {},
   "outputs": [],
   "source": [
    "plt.hist(r1p4, bins=100)\n",
    "plt.xlabel(\"$R_{1.4}$ (km)\")"
   ]
  },
  {
   "cell_type": "code",
   "execution_count": null,
   "metadata": {},
   "outputs": [],
   "source": [
    "plt.hist(r1p4[:2000], bins=100)\n",
    "plt.xlabel(\"$R_{1.4}$ (km)\")"
   ]
  },
  {
   "cell_type": "code",
   "execution_count": null,
   "metadata": {},
   "outputs": [],
   "source": [
    "import TOVsolver\n",
    "import pandas as pd\n",
    "n0 = 0.16 #MeV/fm^3\n",
    "\n",
    "EOS_small = pd.read_table('data/EOSCEFTVE1.dat', header=None).to_numpy()\n",
    "\n",
    "n = EOS_small[:,0] \n",
    "p = EOS_small[:,1] \n",
    "e = EOS_small[:,2] \n",
    "\n",
    "# making cs=1 extention\n",
    "max_n = 10*n0\n",
    "n_step = 1e-3\n",
    "size = int((max_n-n[-1])/n_step)\n",
    "\n",
    "# initialize array\n",
    "EOS_ex = np.zeros((size, 3))\n",
    "# set starting values at n = 2n0\n",
    "EOS_ex[0,0] = n[-1]\n",
    "EOS_ex[0,1] = p[-1]\n",
    "EOS_ex[0,2] = e[-1]\n",
    "\n",
    "for k in range(size-1):\n",
    "    # n_i+1\n",
    "    EOS_ex[k+1,0] = EOS_ex[k,0] + n_step\n",
    "    # p_i+1\n",
    "    EOS_ex[k+1,1] = EOS_ex[k,1] + n_step*(EOS_ex[k,0])*((EOS_ex[k,1]+EOS_ex[k,2])/EOS_ex[k,0])\n",
    "    # e_i+1\n",
    "    EOS_ex[k+1,2] = EOS_ex[k,2] + n_step*((EOS_ex[k,1]+EOS_ex[k,2])/EOS_ex[k,0])\n",
    "\n",
    "# get relevant sizes\n",
    "size_smol = EOS_small.shape[0] -1 # -1 becuase we don't want last duplicated entry\n",
    "size_ex = EOS_ex.shape[0]\n",
    "\n",
    "# initialize array\n",
    "cs_eq1_EOS = np.zeros((size_smol+size_ex, EOS_small.shape[1]))\n",
    "\n",
    "cs_eq1_EOS[:size_smol,:] = EOS_small[:size_smol,:]\n",
    "cs_eq1_EOS[size_smol:,:] = EOS_ex[:,:]\n",
    "\n",
    "cs_eq1_MRL = TOVsolver.solve(cs_eq1_EOS, size=80)"
   ]
  },
  {
   "cell_type": "code",
   "execution_count": null,
   "metadata": {},
   "outputs": [],
   "source": [
    "fig, ax = plt.subplots(1,2, figsize=(16,8))\n",
    "    \n",
    "ax[0].plot(cs_eq1_MRL[:,1], cs_eq1_MRL[:,0], 'o')\n",
    "ax[0].set_xlabel('Radius (km)')\n",
    "ax[0].set_ylabel('Mass (Mo)')\n",
    "\n",
    "ax[1].plot(cs_eq1_EOS[:,2], cs_eq1_EOS[:,1])\n",
    "ax[1].set_xlabel('Energy Density (MeV/fm3)')\n",
    "ax[1].set_xlabel('Pressure (MeV/fm3)')"
   ]
  },
  {
   "cell_type": "code",
   "execution_count": null,
   "metadata": {},
   "outputs": [],
   "source": []
  }
 ],
 "metadata": {
  "kernelspec": {
   "display_name": "Python 3 (ipykernel)",
   "language": "python",
   "name": "python3"
  },
  "language_info": {
   "codemirror_mode": {
    "name": "ipython",
    "version": 3
   },
   "file_extension": ".py",
   "mimetype": "text/x-python",
   "name": "python",
   "nbconvert_exporter": "python",
   "pygments_lexer": "ipython3",
   "version": "3.7.4"
  }
 },
 "nbformat": 4,
 "nbformat_minor": 4
}
