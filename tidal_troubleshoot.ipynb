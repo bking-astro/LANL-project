{
 "cells": [
  {
   "cell_type": "code",
   "execution_count": 1,
   "metadata": {},
   "outputs": [],
   "source": [
    "import numpy as np\n",
    "import matplotlib.pyplot as plt\n",
    "import scipy.integrate\n",
    "import scipy.interpolate\n",
    "import pandas as pd\n",
    "\n",
    "pi = np.pi\n",
    "MeV_to_km = 1.323e-6\n",
    "Mo_to_km = 1.4766\n",
    "\n",
    "p_c = 4.42e-5 # km^-2"
   ]
  },
  {
   "cell_type": "code",
   "execution_count": 2,
   "metadata": {},
   "outputs": [],
   "source": [
    "# read in our data\n",
    "# The files contain n[0.16 fm^-3], p[Mev/fm^-3] and eps [Mev/fm^-3]\n",
    "\n",
    "EOS_1 = pd.read_table('../data/3952.dat', header=None)\n",
    "EOS_2 = pd.read_table('../data/8663.dat', header=None)\n",
    "EOS_3 = pd.read_table('../data/13022.dat', header=None)\n",
    "\n",
    "# grab p and e then convert them to km^-2\n",
    "\n",
    "p_1 = MeV_to_km*EOS_1[1].to_numpy()\n",
    "e_1 = MeV_to_km*EOS_1[2].to_numpy()\n",
    "\n",
    "p_2 = MeV_to_km*EOS_2[1].to_numpy()\n",
    "e_2 = MeV_to_km*EOS_2[2].to_numpy()\n",
    "\n",
    "p_3 = MeV_to_km*EOS_3[1].to_numpy()\n",
    "e_3 = MeV_to_km*EOS_3[2].to_numpy()"
   ]
  },
  {
   "cell_type": "code",
   "execution_count": 3,
   "metadata": {},
   "outputs": [],
   "source": [
    "def ODE_2(y, p, EOS_e):\n",
    "    \"\"\"\n",
    "    Function that characterizes the ODE we are solving.\n",
    "    \"\"\"\n",
    "    \n",
    "    dy = np.zeros(y.shape)\n",
    "    \n",
    "    num0 = -2*y[0]*(np.sqrt(y[0])-2*y[1])\n",
    "    den0 = (EOS_e(p)+p)*(y[1]+4*pi*p*y[0]**(3/2))\n",
    "    \n",
    "    dy[0] = num0/den0\n",
    "    \n",
    "    num1 = -4*np.pi*EOS_e(p)*(y[0]**(3/2))*(np.sqrt(y[0])-2*y[1])\n",
    "    den1 = (EOS_e(p)+p)*(y[1]+4*pi*p*y[0]**(3/2))\n",
    "    \n",
    "    dy[1] = num1/den1\n",
    "    \n",
    "    num2 = (y[2]**2 + y[2]*F_ode(p, y[0], y[1], EOS_e)\n",
    "            + yQ_ode(p, y[0], y[1], EOS_e) )*(np.sqrt(y[0])-2*y[1])\n",
    "    den2 = (EOS_e(p)+p)*(y[1]+4*pi*p*y[0]**(3/2))\n",
    "    \n",
    "    dy[2] = num2/den2\n",
    "    \n",
    "    return dy"
   ]
  },
  {
   "cell_type": "code",
   "execution_count": 4,
   "metadata": {},
   "outputs": [],
   "source": [
    "def F_ode(p, y, m, EOS_e):\n",
    "    \n",
    "    a = np.sqrt(y)/(np.sqrt(y)-2*m)\n",
    "    b = 4*pi*(EOS_e(p)-p)\n",
    "    return a*(1-b)\n",
    "\n",
    "def yQ_ode(p, y, m, EOS_e):\n",
    "        \n",
    "    a = 4*pi*y*np.sqrt(y)\n",
    "    b = np.sqrt(y)-2*m\n",
    "    \n",
    "    one = (a/b)*(5*EOS_e(p) + 9*p + EOS_e.derivative(nu=1)(p)*(EOS_e(p)+p))\n",
    "    two = -6*np.sqrt(y)/b\n",
    "    three = -4*( m/b + a*p/b )**2\n",
    "    \n",
    "    return one+two+three"
   ]
  },
  {
   "cell_type": "code",
   "execution_count": 5,
   "metadata": {},
   "outputs": [],
   "source": [
    "def k_2(C, x_R):\n",
    "    num = ((1 - 2*C)**2)*(2 - x_R + 2*C*(x_R-1))\n",
    "    \n",
    "    a = 6 - 3*x_R + 3*C*(5*x_R - 8)\n",
    "    b = 13 - 11*x_R + C*(3*x_R-2) + (2*C**2)*(1+x_R)\n",
    "    c = 2 - x_R + 2*C*(x_R-1)\n",
    "    \n",
    "    den = 2*C*a + 4*(C**3)*b + 3*((1-2*C)**2)*c*np.log(1-2*C)\n",
    "    \n",
    "    return (8*(C**5)*num)/(5*den)\n",
    "\n",
    "def big_lamb(k2, R, M):\n",
    "    \"\"\"\n",
    "    k2: dimensionless tidal Love number\n",
    "    R: radius of NS in km\n",
    "    M: mass of NS in Mo (solar masses)\n",
    "    \"\"\"\n",
    "    return (2/3)*k2*((R/(1.4766*M))**5)"
   ]
  },
  {
   "cell_type": "code",
   "execution_count": 24,
   "metadata": {},
   "outputs": [],
   "source": [
    "EOS1_e = scipy.interpolate.CubicSpline(p_1, e_1)\n",
    "\n",
    "t0 = p_c\n",
    "y0 = np.array([1e-7,1e-10,2])\n",
    "tf = 1e-10*t0\n",
    "\n",
    "size = int(1e3)\n",
    "t = np.linspace(t0, tf, size)\n",
    "\n",
    "sol = scipy.integrate.odeint(ODE_2, y0, t, args=(EOS1_e,))\n",
    "\n",
    "pressure = t/MeV_to_km\n",
    "radius = np.sqrt(sol[:,0])\n",
    "mass = sol[:,1]/Mo_to_km\n",
    "x = sol[:,2]"
   ]
  },
  {
   "cell_type": "code",
   "execution_count": 25,
   "metadata": {},
   "outputs": [
    {
     "data": {
      "text/plain": [
       "[<matplotlib.lines.Line2D at 0x24315049648>]"
      ]
     },
     "execution_count": 25,
     "metadata": {},
     "output_type": "execute_result"
    },
    {
     "data": {
      "image/png": "[encoded data removed]",
      "text/plain": [
       "<Figure size 864x432 with 4 Axes>"
      ]
     },
     "metadata": {
      "needs_background": "light"
     },
     "output_type": "display_data"
    }
   ],
   "source": [
    "fig, ax = plt.subplots(2,2, figsize=(12,6))\n",
    "\n",
    "ax[0,0].plot(pressure, radius)\n",
    "ax[0,1].plot(pressure, mass)\n",
    "ax[1,0].plot(pressure, x)\n",
    "ax[1,1].plot(radius, mass)"
   ]
  },
  {
   "cell_type": "code",
   "execution_count": null,
   "metadata": {},
   "outputs": [],
   "source": []
  }
 ],
 "metadata": {
  "kernelspec": {
   "display_name": "Python 3",
   "language": "python",
   "name": "python3"
  },
  "language_info": {
   "codemirror_mode": {
    "name": "ipython",
    "version": 3
   },
   "file_extension": ".py",
   "mimetype": "text/x-python",
   "name": "python",
   "nbconvert_exporter": "python",
   "pygments_lexer": "ipython3",
   "version": "3.7.4"
  }
 },
 "nbformat": 4,
 "nbformat_minor": 2
}
