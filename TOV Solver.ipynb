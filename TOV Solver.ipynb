{
 "cells": [
  {
   "cell_type": "code",
   "execution_count": 1,
   "metadata": {},
   "outputs": [],
   "source": [
    "import numpy as np\n",
    "import matplotlib.pyplot as plt\n",
    "import scipy.integrate"
   ]
  },
  {
   "cell_type": "markdown",
   "metadata": {},
   "source": [
    "The goal of this notebook is to build a routine that takes in an equation of state (or several) and produces mass/radius curves from the Tolmann-Oppenheiner-Volkov (TOV) equations. The TOV equations are two equations that relate the energy density ($\\epsilon$), pressure ($P$), and mass ($m$) of a neutron star. The first equation, shown below, is derived by solving the Einstein equations for a time-invariant, spherically symmetric metric\n",
    "\n",
    "$$ \\frac{dP}{dr} = - \\frac{Gm}{r^2} \\epsilon \\left( 1 + \\frac{P}{\\epsilon c^2} \\right) \\left( 1 + \\frac{4\\pi r^3 P}{mc^2} \\right) \\left( 1 - \\frac{2Gm}{rc^2} \\right)^{-1} $$\n",
    "\n",
    "where $r$ is the radial coordinate and $G$ is the gravitational constant. The second equation is essentially conservation of energy/mass.\n",
    "\n",
    "$$ \\frac{dm}{dr} = 4 \\pi r^2 \\rho $$\n",
    "\n",
    "and the energy density is related to the mass density by\n",
    "\n",
    "$$ \\epsilon = \\rho + \\frac{E}{N} n = \\left( m_{N} + \\frac{E}{N} \\right)n $$\n",
    "\n",
    "where $n$ is the baryon density, $m_{N}$ is the neutron mass, and $E/N$ is the energy per particle. We will be using the polytropic equation of state (EOS) given by\n",
    "\n",
    "$$ P(\\rho) = K \\rho^\\Gamma $$\n",
    "\n",
    "The first thing we want to do is, from an EOS, construct a three column array containing $\\epsilon$, $\\rho$, and $P$. We will also find it necessary to have the energy density as a function of the pressure. The mass density term is straightforward, but by using a thermodynamic relation\n",
    "\n",
    "$$ P = n^2 \\frac{\\partial (E / N)}{\\partial n} = \\frac{\\rho^2}{m_{N}}\\frac{\\partial (E / N)}{\\partial \\rho} \\quad \\implies \\quad \\frac{E}{N} = m_{N} \\int \\frac{P}{\\rho^2} d\\rho = \\frac{Km_{N}\\rho^{\\Gamma-1}}{\\Gamma -1} + C $$\n",
    "\n",
    "where $C$ is the constant of integration. This constant is actually just the energy associated with the rest mass (aka the other term in our original expression). Thus we can say\n",
    "\n",
    "$$ \\epsilon(P) = \\left( \\frac{P}{K} \\right)^{1/\\Gamma} + \\frac{P}{\\Gamma-1} $$\n",
    "\n",
    "It will be convenient to work in units where $c = G = 1$ and we can do this by defining:\n",
    "\n",
    "$$ \\overline{P} = \\frac{G}{c^4}P \\quad \\overline{\\epsilon} = \\frac{G}{c^2}\\epsilon \\quad \\overline{\\rho} = \\frac{G}{c^2} \\rho $$"
   ]
  },
  {
   "cell_type": "code",
   "execution_count": 3,
   "metadata": {},
   "outputs": [],
   "source": [
    "def polytropic_EOS(K, Gamma, a_c, size):\n",
    "    \"\"\"\n",
    "    This function will take in parameters for the polytropic equation of state (K and Gamma) as well as a size and\n",
    "    output a table with three columns of length n.\n",
    "    \n",
    "    input:\n",
    "    K: unitless scalar parameter for EOS\n",
    "    Gamma: unitless scalar parameter for EOS, must be greater than 1\n",
    "    a_c: unitless scalar, factor multiplied by saturation density, determines highest density in table\n",
    "    size: unitless scalar, determines length of each column\n",
    "    \n",
    "    output:\n",
    "    table: 3xsize numpy array containing mass density(km^-2), pressure(km^-2), and energy density(km^-2) in units where c=G=1\n",
    "    \"\"\"\n",
    "    \n",
    "    G_c2 = 7.424e-22 \n",
    "    G_c4 = 8.2606e-39\n",
    "    rho_s = 2.793e17 #kg m^-3\n",
    "    \n",
    "    #first we create a grid of mass density\n",
    "    \n",
    "    rho_c = a_c*rho_s\n",
    "    \n",
    "    rho_bar = G_c2*np.linspace(0, rho_c, size)\n",
    "    p_bar = G_c4*K*(rho**Gamma)\n",
    "    epsilon_bar = G_c2*(rho + pressure/(Gamma-1))\n",
    "    \n",
    "    table = np.vstack((rho_bar, p_bar, epsilon_bar))\n",
    "    return table"
   ]
  },
  {
   "cell_type": "code",
   "execution_count": null,
   "metadata": {},
   "outputs": [],
   "source": []
  }
 ],
 "metadata": {
  "kernelspec": {
   "display_name": "Python 3",
   "language": "python",
   "name": "python3"
  },
  "language_info": {
   "codemirror_mode": {
    "name": "ipython",
    "version": 3
   },
   "file_extension": ".py",
   "mimetype": "text/x-python",
   "name": "python",
   "nbconvert_exporter": "python",
   "pygments_lexer": "ipython3",
   "version": "3.7.4"
  }
 },
 "nbformat": 4,
 "nbformat_minor": 2
}
