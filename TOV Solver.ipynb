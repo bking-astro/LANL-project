{
 "cells": [
  {
   "cell_type": "code",
   "execution_count": 17,
   "metadata": {},
   "outputs": [],
   "source": [
    "import numpy as np\n",
    "import matplotlib.pyplot as plt\n",
    "import scipy.integrate\n",
    "import scipy.interpolate"
   ]
  },
  {
   "cell_type": "markdown",
   "metadata": {},
   "source": [
    "The goal of this notebook is to build a routine that takes in an equation of state (or several) and produces mass/radius curves from the Tolmann-Oppenheiner-Volkov (TOV) equations. The TOV equations are two equations that relate the energy density ($\\epsilon$), pressure ($P$), and mass ($m$) of a neutron star. The first equation, shown below, is derived by solving the Einstein equations for a time-invariant, spherically symmetric metric\n",
    "\n",
    "$$ \\frac{dP}{dr} = - \\frac{GM}{r^2} \\epsilon \\left( 1 + \\frac{P}{\\epsilon c^2} \\right) \\left( 1 + \\frac{4\\pi r^3 P}{Mc^2} \\right) \\left( 1 - \\frac{2GM}{rc^2} \\right)^{-1} $$\n",
    "\n",
    "where $r$ is the radial coordinate and $G$ is the gravitational constant. The second equation is essentially conservation of energy/mass.\n",
    "\n",
    "$$ \\frac{dM}{dr} = 4 \\pi r^2 \\rho $$\n",
    "\n",
    "and the energy density is related to the mass density by\n",
    "\n",
    "$$ \\epsilon = \\rho + \\frac{E}{N} n = \\left( m_{N} + \\frac{E}{N} \\right)n $$\n",
    "\n",
    "where $n$ is the baryon density, $m_{N}$ is the neutron mass, and $E/N$ is the energy per particle. We will be using the polytropic equation of state (EOS) given by\n",
    "\n",
    "$$ P(\\rho) = K \\rho^\\Gamma $$\n",
    "\n",
    "The first thing we want to do is, from an EOS, construct a three column array containing $\\epsilon$, $\\rho$, and $P$. We will also find it necessary to have the energy density as a function of the pressure. The mass density term is straightforward, but by using a thermodynamic relation\n",
    "\n",
    "$$ P = n^2 \\frac{\\partial (E / N)}{\\partial n} = \\frac{\\rho^2}{m_{N}}\\frac{\\partial (E / N)}{\\partial \\rho} \\quad \\implies \\quad \\frac{E}{N} = m_{N} \\int \\frac{P}{\\rho^2} d\\rho = \\frac{Km_{N}\\rho^{\\Gamma-1}}{\\Gamma -1} + C $$\n",
    "\n",
    "where $C$ is the constant of integration. This constant is actually just the energy associated with the rest mass (aka the other term in our original expression). Thus we can say\n",
    "\n",
    "$$ \\epsilon(P) = \\left( \\frac{P}{K} \\right)^{1/\\Gamma} + \\frac{P}{\\Gamma-1} $$\n",
    "\n",
    "It will be convenient to work in units where $c = G = 1$ and we can do this by defining:\n",
    "\n",
    "$$ \\overline{P} = \\frac{G}{c^4}P \\quad \\overline{\\epsilon} = \\frac{G}{c^2}\\epsilon \\quad \\overline{\\rho} = \\frac{G}{c^2} \\rho $$"
   ]
  },
  {
   "cell_type": "code",
   "execution_count": 64,
   "metadata": {},
   "outputs": [],
   "source": [
    "def polytropic_EOS(K, Gamma, a_c, size):\n",
    "    \"\"\"\n",
    "    This function will take in parameters for the polytropic equation of state (K and Gamma) as well as a size and\n",
    "    output a table with three columns of length n.\n",
    "    \n",
    "    input:\n",
    "    K: unitless scalar parameter for EOS\n",
    "    Gamma: unitless scalar parameter for EOS, must be greater than 1\n",
    "    a_c: unitless scalar, factor multiplied by saturation density, determines highest density in table\n",
    "    size: unitless scalar, determines length of each column\n",
    "    \n",
    "    output:\n",
    "    table: 3xsize numpy array containing mass density(km^-2), pressure(km^-2), and energy density(km^-2) in units where c=G=1\n",
    "    \"\"\"\n",
    "    \n",
    "    rho_s = 2.793e17 #kg m^-3\n",
    "    p_c = K*(a_c*rho_s)**Gamma\n",
    "    \n",
    "    #first we create a grid of mass density\n",
    "    \n",
    "    rho_c = a_c*rho_s\n",
    "    rho = np.linspace(0, rho_c, size)\n",
    "    p = K*(rho**Gamma)\n",
    "    epsilon = rho + p/(Gamma-1)\n",
    "    \n",
    "    table = np.vstack((rho, p, epsilon))\n",
    "    return table, p_c"
   ]
  },
  {
   "cell_type": "markdown",
   "metadata": {},
   "source": [
    "Now that we have our table of inputs, let's simplify the differential equation we're working with. By introducing the variable $y = r^2$ the first TOV equation turns into\n",
    "\n",
    "$$ \\frac{dy}{dP} = - \\frac{2yc^2}{G} \\frac{\\sqrt{y} - 2GM/c^2}{(c^2 \\epsilon + P)(M + 4\\pi y^{3/2} P/c^2)} $$\n",
    "\n",
    "Note that we can make this switch because $r$ is the radial coordinate and only takes positive values. Next we rewrite this in terms of our $\\bar{P}$, $\\bar{\\rho}$, and $\\bar{\\epsilon}$ variables.\n",
    "\n",
    "$$ \\frac{dy}{d\\bar{P}} = \\frac{-2y\\left(\\sqrt{y} - 2\\bar{M}\\right) }{\\left(\\bar{\\epsilon} + \\bar{P}\\right)\\left(\\bar{M} + 4\\pi y^{3/2} \\bar{P}\\right)} $$\n",
    "\n",
    "After this we can transform the total mass equation in the same way\n",
    "\n",
    "$$ \\frac{d\\bar{M}}{dr} = 4\\pi r^2 \\bar{\\epsilon} = 4 \\pi y \\bar{\\epsilon} $$\n",
    "\n",
    "Please ignore the terrible notation. Now using the chain rule we get\n",
    "\n",
    "$$ \\frac{d\\bar{M}}{d\\bar{P}} = \\frac{d\\bar{M}}{dr} \\frac{dr}{d\\bar{P}} \\quad \\implies \\quad \\frac{d\\bar{M}}{d\\bar{P}} = \\frac{ 4\\pi \\bar{\\epsilon} y^{3/2} \\left( \\sqrt{y} - 2\\bar{M} \\right) }{\\left( \\bar{\\epsilon} + \\bar{P} \\right) \\left( \\bar{M} + 4\\pi \\bar{P} y^{3/2} \\right)} $$\n",
    "\n",
    "Great, now we have the two necessary equations to solve for $y$ and $\\bar{M}$. We label the two equations \n",
    "\n",
    "$$ \\begin{bmatrix} f \\\\ g \\end{bmatrix} = \\begin{bmatrix} \\frac{-2y\\left(\\sqrt{y} - 2\\bar{M}\\right) }{\\left(\\bar{\\epsilon} + \\bar{P}\\right)\\left(\\bar{M} + 4\\pi y^{3/2} \\bar{P}\\right)} \\\\ \\frac{ 4\\pi \\bar{\\epsilon} y^{3/2} \\left( \\sqrt{y} - 2\\bar{M} \\right) }{\\left( \\bar{\\epsilon} + \\bar{P} \\right) \\left( \\bar{M} + 4\\pi \\bar{P} y^{3/2} \\right)} \\end{bmatrix} $$\n",
    "\n",
    "and define a vector, $V$ as:\n",
    "\n",
    "$$ V = \\begin{bmatrix} y \\\\ \\bar{M} \\end{bmatrix} \\quad \\implies \\quad \\frac{dV}{d\\bar{P}} = \\begin{bmatrix} f \\\\ g \\end{bmatrix} $$"
   ]
  },
  {
   "cell_type": "code",
   "execution_count": 63,
   "metadata": {},
   "outputs": [
    {
     "name": "stdout",
     "output_type": "stream",
     "text": [
      "[[0.00000000e+00 7.43064370e-07 1.48612874e-06 ... 7.40835177e-04\n",
      "  7.41578241e-04 7.42321306e-04]\n",
      " [0.00000000e+00 6.03923473e-13 1.91733751e-12 ... 6.00906876e-08\n",
      "  6.01911737e-08 6.02917270e-08]\n",
      " [0.00000000e+00 8.14140837e+04 2.58473604e+05 ... 8.10074205e+09\n",
      "  8.11428844e+09 8.12784388e+09]]\n"
     ]
    },
    {
     "data": {
      "text/plain": [
       "[<matplotlib.lines.Line2D at 0x7f99008f6970>]"
      ]
     },
     "execution_count": 63,
     "metadata": {},
     "output_type": "execute_result"
    },
    {
     "data": {
      "image/png": "[encoded data removed]",
      "text/plain": [
       "<Figure size 432x288 with 1 Axes>"
      ]
     },
     "metadata": {
      "needs_background": "light"
     },
     "output_type": "display_data"
    }
   ],
   "source": [
    "Gamma = 5/3\n",
    "K = 7.3\n",
    "a_c = 3.58\n",
    "size = int(1e3)\n",
    "\n",
    "EOS_table, p_c = polytropic_EOS(K, Gamma, a_c, size)\n",
    "\n",
    "print(EOS_table)\n",
    "\n",
    "p_bar = EOS_table[1,:].reshape(size,)\n",
    "e_bar = EOS_table[2,:].reshape(size,)\n",
    "\n",
    "e_bar_func = scipy.interpolate.CubicSpline(p_bar, e_bar)\n",
    "\n",
    "plt.plot(p_bar,e_bar, 'o', alpha=0.5)\n",
    "plt.plot(p_bar, e_bar_func(p_bar)+1e9, 'o', alpha=0.5)"
   ]
  },
  {
   "cell_type": "code",
   "execution_count": 42,
   "metadata": {},
   "outputs": [],
   "source": [
    "def func_dV(p_bar,V):\n",
    "    \"\"\"\n",
    "    Function that characterizes the ODE we are solving.\n",
    "    \n",
    "    Inputs:\n",
    "    p_bar: scalar input for pressure\n",
    "    V: vector of (y, M_bar), np.array of shape(2,k)\n",
    "    \n",
    "    Outputs:\n",
    "    dV = vector (f,g) defined above, np.array of shape (2,k) \n",
    "    \"\"\"\n",
    "    dV = np.zeros(V.shape)\n",
    "    \n",
    "    num0 = -2*V[0,:]*(np.sqrt(V[0,:])-2*V[1,:])\n",
    "    den0 = (e_bar_func(p_bar)+p_bar)*(V[1,:]+4*np.pi*p_bar*V[0,:])\n",
    "    \n",
    "    dV[0,:] = num0/den0\n",
    "    \n",
    "    num1 = -4*np.pi*e_bar_func(p_bar)*(V[0,:]**(3/2))*(np.sqrt(V[0,:])-2*V[1,:])\n",
    "    den1 = (e_bar_func(p_bar)+p_bar)*(V[1,:]+4*np.pi*p_bar*V[0,:])\n",
    "    \n",
    "    dV[1,:] = num1/den1\n",
    "    \n",
    "    return dV"
   ]
  },
  {
   "cell_type": "code",
   "execution_count": 61,
   "metadata": {},
   "outputs": [
    {
     "name": "stdout",
     "output_type": "stream",
     "text": [
      "4.4426565056349765e-05\n"
     ]
    }
   ],
   "source": [
    "t0 = p_c\n",
    "y0 = np.array([1e-20,1e-20])\n",
    "t_bound = 1e-15\n",
    "\n",
    "print(p_c)\n",
    "\n",
    "TOV_solution = scipy.integrate.RK45(func_dV, t0, y0, t_bound, max_step=1e-10, vectorized=True)"
   ]
  },
  {
   "cell_type": "code",
   "execution_count": 62,
   "metadata": {},
   "outputs": [
    {
     "ename": "ValueError",
     "evalue": "could not convert string to float: 'Required step size is less than spacing between numbers.'",
     "output_type": "error",
     "traceback": [
      "\u001b[0;31m---------------------------------------------------------------------------\u001b[0m",
      "\u001b[0;31mValueError\u001b[0m                                Traceback (most recent call last)",
      "\u001b[0;32m<ipython-input-62-1f41ffae7b84>\u001b[0m in \u001b[0;36m<module>\u001b[0;34m\u001b[0m\n\u001b[1;32m      5\u001b[0m \u001b[0;32mwhile\u001b[0m \u001b[0mTOV_solution\u001b[0m\u001b[0;34m.\u001b[0m\u001b[0mstatus\u001b[0m \u001b[0;34m==\u001b[0m \u001b[0;34m'running'\u001b[0m \u001b[0;32mand\u001b[0m \u001b[0mi\u001b[0m\u001b[0;34m<\u001b[0m\u001b[0msteps\u001b[0m\u001b[0;34m:\u001b[0m\u001b[0;34m\u001b[0m\u001b[0;34m\u001b[0m\u001b[0m\n\u001b[1;32m      6\u001b[0m \u001b[0;34m\u001b[0m\u001b[0m\n\u001b[0;32m----> 7\u001b[0;31m     \u001b[0msolution\u001b[0m\u001b[0;34m[\u001b[0m\u001b[0;34m:\u001b[0m\u001b[0;34m,\u001b[0m\u001b[0mi\u001b[0m\u001b[0;34m]\u001b[0m \u001b[0;34m=\u001b[0m \u001b[0mTOV_solution\u001b[0m\u001b[0;34m.\u001b[0m\u001b[0mstep\u001b[0m\u001b[0;34m(\u001b[0m\u001b[0;34m)\u001b[0m\u001b[0;34m\u001b[0m\u001b[0;34m\u001b[0m\u001b[0m\n\u001b[0m\u001b[1;32m      8\u001b[0m     \u001b[0mi\u001b[0m \u001b[0;34m+=\u001b[0m\u001b[0;36m1\u001b[0m\u001b[0;34m\u001b[0m\u001b[0;34m\u001b[0m\u001b[0m\n",
      "\u001b[0;31mValueError\u001b[0m: could not convert string to float: 'Required step size is less than spacing between numbers.'"
     ]
    }
   ],
   "source": [
    "steps = 500\n",
    "solution = np.zeros((2,steps))\n",
    "i=0\n",
    "\n",
    "while TOV_solution.status == 'running' and i<steps:\n",
    "    \n",
    "    solution[:,i] = TOV_solution.step()\n",
    "    i +=1"
   ]
  },
  {
   "cell_type": "code",
   "execution_count": 60,
   "metadata": {},
   "outputs": [
    {
     "name": "stdout",
     "output_type": "stream",
     "text": [
      "[[nan  0.  0.  0.  0.  0.  0.  0.  0.  0.  0.  0.  0.  0.  0.  0.  0.  0.\n",
      "   0.  0.  0.  0.  0.  0.  0.  0.  0.  0.  0.  0.  0.  0.  0.  0.  0.  0.\n",
      "   0.  0.  0.  0.  0.  0.  0.  0.  0.  0.  0.  0.  0.  0.  0.  0.  0.  0.\n",
      "   0.  0.  0.  0.  0.  0.  0.  0.  0.  0.  0.  0.  0.  0.  0.  0.  0.  0.\n",
      "   0.  0.  0.  0.  0.  0.  0.  0.  0.  0.  0.  0.  0.  0.  0.  0.  0.  0.\n",
      "   0.  0.  0.  0.  0.  0.  0.  0.  0.  0.  0.  0.  0.  0.  0.  0.  0.  0.\n",
      "   0.  0.  0.  0.  0.  0.  0.  0.  0.  0.  0.  0.  0.  0.  0.  0.  0.  0.\n",
      "   0.  0.  0.  0.  0.  0.  0.  0.  0.  0.  0.  0.  0.  0.  0.  0.  0.  0.\n",
      "   0.  0.  0.  0.  0.  0.  0.  0.  0.  0.  0.  0.  0.  0.  0.  0.  0.  0.\n",
      "   0.  0.  0.  0.  0.  0.  0.  0.  0.  0.  0.  0.  0.  0.  0.  0.  0.  0.\n",
      "   0.  0.  0.  0.  0.  0.  0.  0.  0.  0.  0.  0.  0.  0.  0.  0.  0.  0.\n",
      "   0.  0.  0.  0.  0.  0.  0.  0.  0.  0.  0.  0.  0.  0.  0.  0.  0.  0.\n",
      "   0.  0.  0.  0.  0.  0.  0.  0.  0.  0.  0.  0.  0.  0.  0.  0.  0.  0.\n",
      "   0.  0.  0.  0.  0.  0.  0.  0.  0.  0.  0.  0.  0.  0.  0.  0.  0.  0.\n",
      "   0.  0.  0.  0.  0.  0.  0.  0.  0.  0.  0.  0.  0.  0.  0.  0.  0.  0.\n",
      "   0.  0.  0.  0.  0.  0.  0.  0.  0.  0.  0.  0.  0.  0.  0.  0.  0.  0.\n",
      "   0.  0.  0.  0.  0.  0.  0.  0.  0.  0.  0.  0.  0.  0.  0.  0.  0.  0.\n",
      "   0.  0.  0.  0.  0.  0.  0.  0.  0.  0.  0.  0.  0.  0.  0.  0.  0.  0.\n",
      "   0.  0.  0.  0.  0.  0.  0.  0.  0.  0.  0.  0.  0.  0.  0.  0.  0.  0.\n",
      "   0.  0.  0.  0.  0.  0.  0.  0.  0.  0.  0.  0.  0.  0.  0.  0.  0.  0.\n",
      "   0.  0.  0.  0.  0.  0.  0.  0.  0.  0.  0.  0.  0.  0.  0.  0.  0.  0.\n",
      "   0.  0.  0.  0.  0.  0.  0.  0.  0.  0.  0.  0.  0.  0.  0.  0.  0.  0.\n",
      "   0.  0.  0.  0.  0.  0.  0.  0.  0.  0.  0.  0.  0.  0.  0.  0.  0.  0.\n",
      "   0.  0.  0.  0.  0.  0.  0.  0.  0.  0.  0.  0.  0.  0.  0.  0.  0.  0.\n",
      "   0.  0.  0.  0.  0.  0.  0.  0.  0.  0.  0.  0.  0.  0.  0.  0.  0.  0.\n",
      "   0.  0.  0.  0.  0.  0.  0.  0.  0.  0.  0.  0.  0.  0.  0.  0.  0.  0.\n",
      "   0.  0.  0.  0.  0.  0.  0.  0.  0.  0.  0.  0.  0.  0.  0.  0.  0.  0.\n",
      "   0.  0.  0.  0.  0.  0.  0.  0.  0.  0.  0.  0.  0.  0.]\n",
      " [nan  0.  0.  0.  0.  0.  0.  0.  0.  0.  0.  0.  0.  0.  0.  0.  0.  0.\n",
      "   0.  0.  0.  0.  0.  0.  0.  0.  0.  0.  0.  0.  0.  0.  0.  0.  0.  0.\n",
      "   0.  0.  0.  0.  0.  0.  0.  0.  0.  0.  0.  0.  0.  0.  0.  0.  0.  0.\n",
      "   0.  0.  0.  0.  0.  0.  0.  0.  0.  0.  0.  0.  0.  0.  0.  0.  0.  0.\n",
      "   0.  0.  0.  0.  0.  0.  0.  0.  0.  0.  0.  0.  0.  0.  0.  0.  0.  0.\n",
      "   0.  0.  0.  0.  0.  0.  0.  0.  0.  0.  0.  0.  0.  0.  0.  0.  0.  0.\n",
      "   0.  0.  0.  0.  0.  0.  0.  0.  0.  0.  0.  0.  0.  0.  0.  0.  0.  0.\n",
      "   0.  0.  0.  0.  0.  0.  0.  0.  0.  0.  0.  0.  0.  0.  0.  0.  0.  0.\n",
      "   0.  0.  0.  0.  0.  0.  0.  0.  0.  0.  0.  0.  0.  0.  0.  0.  0.  0.\n",
      "   0.  0.  0.  0.  0.  0.  0.  0.  0.  0.  0.  0.  0.  0.  0.  0.  0.  0.\n",
      "   0.  0.  0.  0.  0.  0.  0.  0.  0.  0.  0.  0.  0.  0.  0.  0.  0.  0.\n",
      "   0.  0.  0.  0.  0.  0.  0.  0.  0.  0.  0.  0.  0.  0.  0.  0.  0.  0.\n",
      "   0.  0.  0.  0.  0.  0.  0.  0.  0.  0.  0.  0.  0.  0.  0.  0.  0.  0.\n",
      "   0.  0.  0.  0.  0.  0.  0.  0.  0.  0.  0.  0.  0.  0.  0.  0.  0.  0.\n",
      "   0.  0.  0.  0.  0.  0.  0.  0.  0.  0.  0.  0.  0.  0.  0.  0.  0.  0.\n",
      "   0.  0.  0.  0.  0.  0.  0.  0.  0.  0.  0.  0.  0.  0.  0.  0.  0.  0.\n",
      "   0.  0.  0.  0.  0.  0.  0.  0.  0.  0.  0.  0.  0.  0.  0.  0.  0.  0.\n",
      "   0.  0.  0.  0.  0.  0.  0.  0.  0.  0.  0.  0.  0.  0.  0.  0.  0.  0.\n",
      "   0.  0.  0.  0.  0.  0.  0.  0.  0.  0.  0.  0.  0.  0.  0.  0.  0.  0.\n",
      "   0.  0.  0.  0.  0.  0.  0.  0.  0.  0.  0.  0.  0.  0.  0.  0.  0.  0.\n",
      "   0.  0.  0.  0.  0.  0.  0.  0.  0.  0.  0.  0.  0.  0.  0.  0.  0.  0.\n",
      "   0.  0.  0.  0.  0.  0.  0.  0.  0.  0.  0.  0.  0.  0.  0.  0.  0.  0.\n",
      "   0.  0.  0.  0.  0.  0.  0.  0.  0.  0.  0.  0.  0.  0.  0.  0.  0.  0.\n",
      "   0.  0.  0.  0.  0.  0.  0.  0.  0.  0.  0.  0.  0.  0.  0.  0.  0.  0.\n",
      "   0.  0.  0.  0.  0.  0.  0.  0.  0.  0.  0.  0.  0.  0.  0.  0.  0.  0.\n",
      "   0.  0.  0.  0.  0.  0.  0.  0.  0.  0.  0.  0.  0.  0.  0.  0.  0.  0.\n",
      "   0.  0.  0.  0.  0.  0.  0.  0.  0.  0.  0.  0.  0.  0.  0.  0.  0.  0.\n",
      "   0.  0.  0.  0.  0.  0.  0.  0.  0.  0.  0.  0.  0.  0.]]\n"
     ]
    }
   ],
   "source": [
    "print(solution)"
   ]
  },
  {
   "cell_type": "code",
   "execution_count": null,
   "metadata": {},
   "outputs": [],
   "source": []
  }
 ],
 "metadata": {
  "kernelspec": {
   "display_name": "Python 3",
   "language": "python",
   "name": "python3"
  },
  "language_info": {
   "codemirror_mode": {
    "name": "ipython",
    "version": 3
   },
   "file_extension": ".py",
   "mimetype": "text/x-python",
   "name": "python",
   "nbconvert_exporter": "python",
   "pygments_lexer": "ipython3",
   "version": "3.8.5"
  }
 },
 "nbformat": 4,
 "nbformat_minor": 2
}
