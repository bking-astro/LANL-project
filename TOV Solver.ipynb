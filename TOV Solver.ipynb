{
 "cells": [
  {
   "cell_type": "code",
   "execution_count": 4,
   "metadata": {},
   "outputs": [],
   "source": [
    "import numpy as np\n",
    "import matplotlib.pyplot as plt\n",
    "import scipy.integrate\n",
    "import scipy.interpolate"
   ]
  },
  {
   "cell_type": "markdown",
   "metadata": {},
   "source": [
    "The goal of this notebook is to build a routine that takes in an equation of state (or several) and produces mass/radius curves from the Tolmann-Oppenheiner-Volkov (TOV) equations. The TOV equations are two equations that relate the energy density ($\\epsilon$), pressure ($P$), and mass ($m$) of a neutron star. The first equation, shown below, is derived by solving the Einstein equations for a time-invariant, spherically symmetric metric\n",
    "\n",
    "$$ \\frac{dP}{dr} = - \\frac{GM}{r^2} \\epsilon \\left( 1 + \\frac{P}{\\epsilon c^2} \\right) \\left( 1 + \\frac{4\\pi r^3 P}{Mc^2} \\right) \\left( 1 - \\frac{2GM}{rc^2} \\right)^{-1} $$\n",
    "\n",
    "where $r$ is the radial coordinate and $G$ is the gravitational constant. The second equation is essentially conservation of energy/mass.\n",
    "\n",
    "$$ \\frac{dM}{dr} = 4 \\pi r^2 \\rho $$\n",
    "\n",
    "and the energy density is related to the mass density by\n",
    "\n",
    "$$ \\epsilon = \\rho + \\frac{E}{N} n = \\left( m_{N} + \\frac{E}{N} \\right)n $$\n",
    "\n",
    "where $n$ is the baryon density, $m_{N}$ is the neutron mass, and $E/N$ is the energy per particle. We will be using the polytropic equation of state (EOS) given by\n",
    "\n",
    "$$ P(\\rho) = K \\rho^\\Gamma $$\n",
    "\n",
    "The first thing we want to do is, from an EOS, construct a three column array containing $\\epsilon$, $\\rho$, and $P$. We will also find it necessary to have the energy density as a function of the pressure. The mass density term is straightforward, but by using a thermodynamic relation\n",
    "\n",
    "$$ P = n^2 \\frac{\\partial (E / N)}{\\partial n} = \\frac{\\rho^2}{m_{N}}\\frac{\\partial (E / N)}{\\partial \\rho} \\quad \\implies \\quad \\frac{E}{N} = m_{N} \\int \\frac{P}{\\rho^2} d\\rho = \\frac{Km_{N}\\rho^{\\Gamma-1}}{\\Gamma -1} + C $$\n",
    "\n",
    "where $C$ is the constant of integration. This constant is actually just the energy associated with the rest mass (aka the other term in our original expression). Thus we can say\n",
    "\n",
    "$$ \\epsilon(P) = \\left( \\frac{P}{K} \\right)^{1/\\Gamma} + \\frac{P}{\\Gamma-1} $$\n",
    "\n",
    "It will be convenient to work in units where $c = G = 1$ and we can do this by defining:\n",
    "\n",
    "$$ \\overline{P} = \\frac{G}{c^4}P \\quad \\overline{\\epsilon} = \\frac{G}{c^2}\\epsilon \\quad \\overline{\\rho} = \\frac{G}{c^2} \\rho $$"
   ]
  },
  {
   "cell_type": "code",
   "execution_count": 5,
   "metadata": {},
   "outputs": [],
   "source": [
    "def polytropic_EOS(K, Gamma, a_c, size):\n",
    "    \"\"\"\n",
    "    This function will take in parameters for the polytropic equation of state (K and Gamma) as well as a size and\n",
    "    output a table with three columns of length n.\n",
    "    \n",
    "    input:\n",
    "    K: unitless scalar parameter for EOS\n",
    "    Gamma: unitless scalar parameter for EOS, must be greater than 1\n",
    "    a_c: unitless scalar, factor multiplied by saturation density, determines highest density in table\n",
    "    size: unitless scalar, determines length of each column\n",
    "    \n",
    "    output:\n",
    "    table: 3xsize numpy array containing mass density(km^-2), pressure(km^-2), and energy density(km^-2)\n",
    "    in units where c=G=1\n",
    "    \"\"\"\n",
    "    \n",
    "    rho_s = 2.793e17 #kg m^-3\n",
    "    p_c = K*(a_c*rho_s)**Gamma\n",
    "    \n",
    "    #first we create a grid of mass density\n",
    "    \n",
    "    rho_c = a_c*rho_s\n",
    "    rho = np.linspace(0, rho_c, size)\n",
    "    p = K*(rho**Gamma)\n",
    "    epsilon = rho + p/(Gamma-1)\n",
    "    \n",
    "    # now we want to rescale these\n",
    "    \n",
    "    Gc2 = 7.424e-22 #Gravitation constant over speed of light squared\n",
    "    Gc4 = 8.2606e-39 #Gravitation constant over speed of light to the fourth\n",
    "    \n",
    "    rho_bar = rho*Gc2\n",
    "    p_bar = p*Gc4\n",
    "    e_bar = epsilon*Gc2\n",
    "    \n",
    "    table = np.vstack((rho_bar, p_bar, e_bar))\n",
    "    p_c_bar = p_c*(Gc2**Gamma)\n",
    "    \n",
    "    return table, p_c_bar"
   ]
  },
  {
   "cell_type": "markdown",
   "metadata": {},
   "source": [
    "Now that we have our table of inputs, let's simplify the differential equation we're working with. By introducing the variable $y = r^2$ the first TOV equation turns into\n",
    "\n",
    "$$ \\frac{dy}{dP} = - \\frac{2yc^2}{G} \\frac{\\sqrt{y} - 2GM/c^2}{(c^2 \\epsilon + P)(M + 4\\pi y^{3/2} P/c^2)} $$\n",
    "\n",
    "Note that we can make this switch because $r$ is the radial coordinate and only takes positive values. Next we rewrite this in terms of our $\\bar{P}$, $\\bar{\\rho}$, and $\\bar{\\epsilon}$ variables.\n",
    "\n",
    "$$ \\frac{dy}{d\\bar{P}} = \\frac{-2y\\left(\\sqrt{y} - 2\\bar{M}\\right) }{\\left(\\bar{\\epsilon} + \\bar{P}\\right)\\left(\\bar{M} + 4\\pi y^{3/2} \\bar{P}\\right)} $$\n",
    "\n",
    "After this we can transform the total mass equation in the same way\n",
    "\n",
    "$$ \\frac{d\\bar{M}}{dr} = 4\\pi r^2 \\bar{\\rho} = 4 \\pi y \\frac{G}{c^2} \\left( \\frac{P}{K} \\right)^{1/\\Gamma} $$\n",
    "\n",
    "Please ignore the terrible notation. Now using the chain rule we get\n",
    "\n",
    "$$ \\frac{d\\bar{M}}{d\\bar{P}} = \\frac{d\\bar{M}}{dr} \\frac{dr}{d\\bar{P}} \\quad \\implies \\quad \\frac{d\\bar{M}}{d\\bar{P}} = \\frac{ 4\\pi \\bar{\\epsilon} y^{3/2} \\left( \\sqrt{y} - 2\\bar{M} \\right) }{\\left( \\bar{\\epsilon} + \\bar{P} \\right) \\left( \\bar{M} + 4\\pi \\bar{P} y^{3/2} \\right)} $$\n",
    "\n",
    "Finally, we want to nondimensionalize this problem. I will introduce the variables\n",
    "\n",
    "$$ \\bar{P} = P_0 \\tilde{P} \\quad ; \\quad \\bar{\\epsilon} = P_0 \\tilde{\\epsilon} \\quad ; \\quad y = y_0 \\tilde{y} \\quad ; \\quad \\bar{M} = M_0 \\tilde{M} $$\n",
    "\n",
    "and substitute them into our equations. Doing this yields\n",
    "\n",
    "$$ \\begin{align} \\frac{d \\tilde{y}}{d\\tilde{P}} &= \\frac{-2\\tilde{y}\\left(\\sqrt{\\tilde{y}} - 2\\tilde{M}\\right) }{\\left( \\tilde{\\epsilon} + \\tilde{P} \\right) \\left( \\tilde{M} + 4\\pi \\tilde{y}^{3/2} \\tilde{P} \\right)}\\\\ \\frac{d\\tilde{M}}{d\\tilde{P}} &= \\frac{ 4\\pi \\tilde{\\epsilon} \\tilde{y}^{3/2} \\left( \\sqrt{\\tilde{y}} - 2\\tilde{M} \\right) }{\\left( \\tilde{\\epsilon} + \\tilde{P} \\right) \\left( \\tilde{M} + 4\\pi \\tilde{P} \\tilde{y}^{3/2} \\right)} \\end{align} $$\n",
    "\n",
    "and the following relations:\n",
    "\n",
    "$$ P_0 = P_0 \\quad ; \\quad y_0 = \\frac{1}{P_0} \\quad ; \\quad M_0 = \\sqrt{\\frac{1}{P_0}} $$\n",
    "\n",
    "Now we can set the constants based on the scale of our problem. The obvious choice for this is to pick $P_0 = P_c$, so we have $\\tilde{P} \\in (0,1)$. Thus we have the two necessary equations to solve for $\\tilde{y}$ and $\\tilde{M}$. We label the two equations and define a vector, $V$ as:\n",
    "\n",
    "$$ \\begin{bmatrix} \\frac{d \\tilde{y}}{d\\tilde{P}}\\\\ \\frac{d\\tilde{M}}{d\\tilde{P}} \\end{bmatrix} = \\begin{bmatrix} f \\\\ g \\end{bmatrix} \\quad ; \\quad V = \\begin{bmatrix} \\tilde{y} \\\\ \\tilde{M} \\end{bmatrix} \\quad \\implies \\quad \\frac{dV}{d\\tilde{P}} = \\begin{bmatrix} f \\\\ g \\end{bmatrix}$$"
   ]
  },
  {
   "cell_type": "code",
   "execution_count": 45,
   "metadata": {},
   "outputs": [
    {
     "name": "stdout",
     "output_type": "stream",
     "text": [
      "[[0.00000000e+00 7.43064370e-07 1.48612874e-06 ... 7.40835177e-04\n",
      "  7.41578241e-04 7.42321306e-04]\n",
      " [0.00000000e+00 6.03923473e-13 1.91733751e-12 ... 6.00906876e-08\n",
      "  6.01911737e-08 6.02917270e-08]\n",
      " [0.00000000e+00 8.14140837e+04 2.58473604e+05 ... 8.10074205e+09\n",
      "  8.11428844e+09 8.12784388e+09]]\n"
     ]
    },
    {
     "data": {
      "text/plain": [
       "[<matplotlib.lines.Line2D at 0x7fe4ca0cdca0>]"
      ]
     },
     "execution_count": 45,
     "metadata": {},
     "output_type": "execute_result"
    },
    {
     "data": {
      "image/png": "[encoded data removed]",
      "text/plain": [
       "<Figure size 432x288 with 1 Axes>"
      ]
     },
     "metadata": {
      "needs_background": "light"
     },
     "output_type": "display_data"
    }
   ],
   "source": [
    "Gamma = 5/3\n",
    "K = 7.3\n",
    "a_c = 3.58\n",
    "size = int(1e3)\n",
    "\n",
    "EOS_table, p_c = polytropic_EOS(K, Gamma, a_c, size)\n",
    "\n",
    "print(EOS_table)\n",
    "\n",
    "p_til = EOS_table[1,:].reshape(size,)/p_c\n",
    "e_til = EOS_table[2,:].reshape(size,)/p_c\n",
    "\n",
    "e_til_func = scipy.interpolate.CubicSpline(p_til, e_til)\n",
    "\n",
    "plt.plot(p_til,e_til, 'o', alpha=0.5)\n",
    "plt.plot(p_til, e_til_func(p_til)+1e14, 'o', alpha=0.5)"
   ]
  },
  {
   "cell_type": "code",
   "execution_count": 12,
   "metadata": {},
   "outputs": [],
   "source": [
    "def func_dV(p_til,V):\n",
    "    \"\"\"\n",
    "    Function that characterizes the ODE we are solving.\n",
    "    \n",
    "    Inputs:\n",
    "    p_bar: scalar input for pressure\n",
    "    V: vector of (y, M_bar), np.array of shape(2,k)\n",
    "    \n",
    "    Outputs:\n",
    "    dV = vector (f,g) defined above, np.array of shape (2,k) \n",
    "    \"\"\"\n",
    "    dV = np.zeros(V.shape)\n",
    "    \n",
    "    num0 = -2*V[0,:]*(np.sqrt(V[0,:])-2*V[1,:])\n",
    "    den0 = (e_til_func(p_til)+p_til)*(V[1,:]+4*np.pi*p_til*V[0,:])\n",
    "    \n",
    "    dV[0,:] = num0/den0\n",
    "    \n",
    "    num1 = -4*np.pi*e_til_func(p_til)*(V[0,:]**(3/2))*(np.sqrt(V[0,:])-2*V[1,:])\n",
    "    den1 = (e_til_func(p_til)+p_til)*(V[1,:]+4*np.pi*p_til*V[0,:])\n",
    "    \n",
    "    dV[1,:] = num1/den1\n",
    "    \n",
    "    return dV"
   ]
  },
  {
   "cell_type": "code",
   "execution_count": 41,
   "metadata": {},
   "outputs": [
    {
     "name": "stdout",
     "output_type": "stream",
     "text": [
      "1 [1.e-05 1.e-05]\n",
      "0.99999 [1.0000000e-05 1.0000092e-05]\n",
      "0.9999800000000001 [1.00000000e-05 1.00001841e-05]\n"
     ]
    }
   ],
   "source": [
    "t0 = 1\n",
    "y0 = np.array([1e-5,1e-5])\n",
    "t_bound = 1e-8\n",
    "max_step = 1e-5\n",
    "rtol = 1e-5\n",
    "atol = 1e-5\n",
    "\n",
    "TOV_solution = scipy.integrate.RK45(func_dV, t0, y0, t_bound, max_step=max_step,\n",
    "                                    rtol=rtol, atol=atol, vectorized=True)\n",
    "print(TOV_solution.t, TOV_solution.y)\n",
    "TOV_solution.step()\n",
    "print(TOV_solution.t, TOV_solution.y)\n",
    "TOV_solution.step()\n",
    "print(TOV_solution.t, TOV_solution.y)"
   ]
  },
  {
   "cell_type": "code",
   "execution_count": 42,
   "metadata": {},
   "outputs": [],
   "source": [
    "steps = 500\n",
    "solution = np.zeros((2,steps))\n",
    "pressure = np.zeros(steps)\n",
    "i=0\n",
    "\n",
    "TOV_solution = scipy.integrate.RK45(func_dV, t0, y0, t_bound, max_step=max_step,\n",
    "                                    rtol=rtol, atol=atol, vectorized=True)\n",
    "\n",
    "while TOV_solution.status == 'running' and i<steps and TOV_solution.t > 0:\n",
    "\n",
    "    solution[:,i] = TOV_solution.y\n",
    "    pressure[i] = TOV_solution.t\n",
    "    TOV_solution.step()\n",
    "    i +=1"
   ]
  },
  {
   "cell_type": "code",
   "execution_count": 43,
   "metadata": {},
   "outputs": [
    {
     "name": "stderr",
     "output_type": "stream",
     "text": [
      "<ipython-input-43-5944dd90cf41>:2: UserWarning: Attempting to set identical bottom == top == 1e-05 results in singular transformations; automatically expanding.\n",
      "  plt.ylim(y0[0],max(solution[0,:]))\n"
     ]
    },
    {
     "data": {
      "text/plain": [
       "(9.5e-06, 1.0500000000000001e-05)"
      ]
     },
     "execution_count": 43,
     "metadata": {},
     "output_type": "execute_result"
    },
    {
     "data": {
      "image/png": "[encoded data removed]",
      "text/plain": [
       "<Figure size 432x288 with 1 Axes>"
      ]
     },
     "metadata": {
      "needs_background": "light"
     },
     "output_type": "display_data"
    }
   ],
   "source": [
    "plt.plot(pressure, solution[0,:], 'o')\n",
    "plt.ylim(y0[0],max(solution[0,:]))"
   ]
  },
  {
   "cell_type": "code",
   "execution_count": 44,
   "metadata": {},
   "outputs": [
    {
     "data": {
      "text/plain": [
       "array([1.e-05, 1.e-05, 1.e-05, 1.e-05, 1.e-05, 1.e-05, 1.e-05, 1.e-05,\n",
       "       1.e-05, 1.e-05, 1.e-05, 1.e-05, 1.e-05, 1.e-05, 1.e-05, 1.e-05,\n",
       "       1.e-05, 1.e-05, 1.e-05, 1.e-05, 1.e-05, 1.e-05, 1.e-05, 1.e-05,\n",
       "       1.e-05, 1.e-05, 1.e-05, 1.e-05, 1.e-05, 1.e-05, 1.e-05, 1.e-05,\n",
       "       1.e-05, 1.e-05, 1.e-05, 1.e-05, 1.e-05, 1.e-05, 1.e-05, 1.e-05,\n",
       "       1.e-05, 1.e-05, 1.e-05, 1.e-05, 1.e-05, 1.e-05, 1.e-05, 1.e-05,\n",
       "       1.e-05, 1.e-05, 1.e-05, 1.e-05, 1.e-05, 1.e-05, 1.e-05, 1.e-05,\n",
       "       1.e-05, 1.e-05, 1.e-05, 1.e-05, 1.e-05, 1.e-05, 1.e-05, 1.e-05,\n",
       "       1.e-05, 1.e-05, 1.e-05, 1.e-05, 1.e-05, 1.e-05, 1.e-05, 1.e-05,\n",
       "       1.e-05, 1.e-05, 1.e-05, 1.e-05, 1.e-05, 1.e-05, 1.e-05, 1.e-05,\n",
       "       1.e-05, 1.e-05, 1.e-05, 1.e-05, 1.e-05, 1.e-05, 1.e-05, 1.e-05,\n",
       "       1.e-05, 1.e-05, 1.e-05, 1.e-05, 1.e-05, 1.e-05, 1.e-05, 1.e-05,\n",
       "       1.e-05, 1.e-05, 1.e-05, 1.e-05, 1.e-05, 1.e-05, 1.e-05, 1.e-05,\n",
       "       1.e-05, 1.e-05, 1.e-05, 1.e-05, 1.e-05, 1.e-05, 1.e-05, 1.e-05,\n",
       "       1.e-05, 1.e-05, 1.e-05, 1.e-05, 1.e-05, 1.e-05, 1.e-05, 1.e-05,\n",
       "       1.e-05, 1.e-05, 1.e-05, 1.e-05, 1.e-05, 1.e-05, 1.e-05, 1.e-05,\n",
       "       1.e-05, 1.e-05, 1.e-05, 1.e-05, 1.e-05, 1.e-05, 1.e-05, 1.e-05,\n",
       "       1.e-05, 1.e-05, 1.e-05, 1.e-05, 1.e-05, 1.e-05, 1.e-05, 1.e-05,\n",
       "       1.e-05, 1.e-05, 1.e-05, 1.e-05, 1.e-05, 1.e-05, 1.e-05, 1.e-05,\n",
       "       1.e-05, 1.e-05, 1.e-05, 1.e-05, 1.e-05, 1.e-05, 1.e-05, 1.e-05,\n",
       "       1.e-05, 1.e-05, 1.e-05, 1.e-05, 1.e-05, 1.e-05, 1.e-05, 1.e-05,\n",
       "       1.e-05, 1.e-05, 1.e-05, 1.e-05, 1.e-05, 1.e-05, 1.e-05, 1.e-05,\n",
       "       1.e-05, 1.e-05, 1.e-05, 1.e-05, 1.e-05, 1.e-05, 1.e-05, 1.e-05,\n",
       "       1.e-05, 1.e-05, 1.e-05, 1.e-05, 1.e-05, 1.e-05, 1.e-05, 1.e-05,\n",
       "       1.e-05, 1.e-05, 1.e-05, 1.e-05, 1.e-05, 1.e-05, 1.e-05, 1.e-05,\n",
       "       1.e-05, 1.e-05, 1.e-05, 1.e-05, 1.e-05, 1.e-05, 1.e-05, 1.e-05,\n",
       "       1.e-05, 1.e-05, 1.e-05, 1.e-05, 1.e-05, 1.e-05, 1.e-05, 1.e-05,\n",
       "       1.e-05, 1.e-05, 1.e-05, 1.e-05, 1.e-05, 1.e-05, 1.e-05, 1.e-05,\n",
       "       1.e-05, 1.e-05, 1.e-05, 1.e-05, 1.e-05, 1.e-05, 1.e-05, 1.e-05,\n",
       "       1.e-05, 1.e-05, 1.e-05, 1.e-05, 1.e-05, 1.e-05, 1.e-05, 1.e-05,\n",
       "       1.e-05, 1.e-05, 1.e-05, 1.e-05, 1.e-05, 1.e-05, 1.e-05, 1.e-05,\n",
       "       1.e-05, 1.e-05, 1.e-05, 1.e-05, 1.e-05, 1.e-05, 1.e-05, 1.e-05,\n",
       "       1.e-05, 1.e-05, 1.e-05, 1.e-05, 1.e-05, 1.e-05, 1.e-05, 1.e-05,\n",
       "       1.e-05, 1.e-05, 1.e-05, 1.e-05, 1.e-05, 1.e-05, 1.e-05, 1.e-05,\n",
       "       1.e-05, 1.e-05, 1.e-05, 1.e-05, 1.e-05, 1.e-05, 1.e-05, 1.e-05,\n",
       "       1.e-05, 1.e-05, 1.e-05, 1.e-05, 1.e-05, 1.e-05, 1.e-05, 1.e-05,\n",
       "       1.e-05, 1.e-05, 1.e-05, 1.e-05, 1.e-05, 1.e-05, 1.e-05, 1.e-05,\n",
       "       1.e-05, 1.e-05, 1.e-05, 1.e-05, 1.e-05, 1.e-05, 1.e-05, 1.e-05,\n",
       "       1.e-05, 1.e-05, 1.e-05, 1.e-05, 1.e-05, 1.e-05, 1.e-05, 1.e-05,\n",
       "       1.e-05, 1.e-05, 1.e-05, 1.e-05, 1.e-05, 1.e-05, 1.e-05, 1.e-05,\n",
       "       1.e-05, 1.e-05, 1.e-05, 1.e-05, 1.e-05, 1.e-05, 1.e-05, 1.e-05,\n",
       "       1.e-05, 1.e-05, 1.e-05, 1.e-05, 1.e-05, 1.e-05, 1.e-05, 1.e-05,\n",
       "       1.e-05, 1.e-05, 1.e-05, 1.e-05, 1.e-05, 1.e-05, 1.e-05, 1.e-05,\n",
       "       1.e-05, 1.e-05, 1.e-05, 1.e-05, 1.e-05, 1.e-05, 1.e-05, 1.e-05,\n",
       "       1.e-05, 1.e-05, 1.e-05, 1.e-05, 1.e-05, 1.e-05, 1.e-05, 1.e-05,\n",
       "       1.e-05, 1.e-05, 1.e-05, 1.e-05, 1.e-05, 1.e-05, 1.e-05, 1.e-05,\n",
       "       1.e-05, 1.e-05, 1.e-05, 1.e-05, 1.e-05, 1.e-05, 1.e-05, 1.e-05,\n",
       "       1.e-05, 1.e-05, 1.e-05, 1.e-05, 1.e-05, 1.e-05, 1.e-05, 1.e-05,\n",
       "       1.e-05, 1.e-05, 1.e-05, 1.e-05, 1.e-05, 1.e-05, 1.e-05, 1.e-05,\n",
       "       1.e-05, 1.e-05, 1.e-05, 1.e-05, 1.e-05, 1.e-05, 1.e-05, 1.e-05,\n",
       "       1.e-05, 1.e-05, 1.e-05, 1.e-05, 1.e-05, 1.e-05, 1.e-05, 1.e-05,\n",
       "       1.e-05, 1.e-05, 1.e-05, 1.e-05, 1.e-05, 1.e-05, 1.e-05, 1.e-05,\n",
       "       1.e-05, 1.e-05, 1.e-05, 1.e-05, 1.e-05, 1.e-05, 1.e-05, 1.e-05,\n",
       "       1.e-05, 1.e-05, 1.e-05, 1.e-05, 1.e-05, 1.e-05, 1.e-05, 1.e-05,\n",
       "       1.e-05, 1.e-05, 1.e-05, 1.e-05, 1.e-05, 1.e-05, 1.e-05, 1.e-05,\n",
       "       1.e-05, 1.e-05, 1.e-05, 1.e-05, 1.e-05, 1.e-05, 1.e-05, 1.e-05,\n",
       "       1.e-05, 1.e-05, 1.e-05, 1.e-05, 1.e-05, 1.e-05, 1.e-05, 1.e-05,\n",
       "       1.e-05, 1.e-05, 1.e-05, 1.e-05, 1.e-05, 1.e-05, 1.e-05, 1.e-05,\n",
       "       1.e-05, 1.e-05, 1.e-05, 1.e-05, 1.e-05, 1.e-05, 1.e-05, 1.e-05,\n",
       "       1.e-05, 1.e-05, 1.e-05, 1.e-05, 1.e-05, 1.e-05, 1.e-05, 1.e-05,\n",
       "       1.e-05, 1.e-05, 1.e-05, 1.e-05, 1.e-05, 1.e-05, 1.e-05, 1.e-05,\n",
       "       1.e-05, 1.e-05, 1.e-05, 1.e-05, 1.e-05, 1.e-05, 1.e-05, 1.e-05,\n",
       "       1.e-05, 1.e-05, 1.e-05, 1.e-05])"
      ]
     },
     "execution_count": 44,
     "metadata": {},
     "output_type": "execute_result"
    }
   ],
   "source": [
    "solution[0,:]"
   ]
  },
  {
   "cell_type": "code",
   "execution_count": null,
   "metadata": {},
   "outputs": [],
   "source": []
  }
 ],
 "metadata": {
  "kernelspec": {
   "display_name": "Python 3",
   "language": "python",
   "name": "python3"
  },
  "language_info": {
   "codemirror_mode": {
    "name": "ipython",
    "version": 3
   },
   "file_extension": ".py",
   "mimetype": "text/x-python",
   "name": "python",
   "nbconvert_exporter": "python",
   "pygments_lexer": "ipython3",
   "version": "3.8.5"
  }
 },
 "nbformat": 4,
 "nbformat_minor": 2
}
